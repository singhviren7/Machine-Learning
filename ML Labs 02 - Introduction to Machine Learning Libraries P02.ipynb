{
 "cells": [
  {
   "cell_type": "markdown",
   "id": "f30bc6cc",
   "metadata": {},
   "source": [
    "<hr>\n",
    "\n",
    "\n",
    "# ML Lab 02 - Introduction to Machine Learning Libraries Part:02\n",
    "\n",
    "<hr/>\n",
    "\n",
    "By: **Virendra Singh** <br>\n",
    "Linkedin: https://www.linkedin.com/in/singhviren7/\n",
    "\n",
    "<hr/>\n"
   ]
  },
  {
   "cell_type": "markdown",
   "id": "ea4a8b58",
   "metadata": {},
   "source": [
    "## Lab Overview  \n",
    "### Objectives\n",
    "\n",
    "- PART 1 - EXPLORATION\n",
    "- Explore the below subparts of the module sklearn\n",
    "   - a. train_test_split from sklearn.model_selection\n",
    "   - b. make_classification and load_iris from sklearn.datasets\n",
    "   - c. make_regression and load_boston from sklearn.datasets\n",
    "   - d. DummyClassifier and DummyRegressor from sklearn.dummy\n",
    "   - e. accuracy_score, classification_report, and confusion_matrix from sklearn.metrics\n",
    "\n",
    "- PART 2 - Questions\n",
    "   - What are the different parameters of the above functions/methods that are part of the above SKLearn modules?\n",
    "   - What is the effect, when you modify certain parameters that are present in the same?\n",
    "   - How to get different train and test datasets?\n",
    "   - Identify which are features and which are targets in Part 1b, and Part 1c (make_classification and make_regression would    depend on your inputs on the function call)\n",
    "   - Identify what the things mentioned in Part 1d stands for. \n",
    "   - Making use of Part 1d, explore the various options available under Part 1e.\n",
    "   - Do the documentation properly and find out answers to the above-mentioned questions.\n",
    "   - Justify your findings by making use of Pandas and MatplotLibrary."
   ]
  },
  {
   "cell_type": "markdown",
   "id": "07f322f8",
   "metadata": {},
   "source": [
    "### Problem Definition\n",
    "We have to execute some basic python codes for the normal exercise. We have to import the number of libraries which we will use in our further labs and in many projects. We have to show the basic use of these codes how the are going to be implemented. There are options in markdowm section we will explore those options and it's uses."
   ]
  },
  {
   "cell_type": "markdown",
   "id": "b41c60ed",
   "metadata": {},
   "source": [
    "### Approach\n",
    "Execute the basic python codes for the normal exercise for that we have to make the objective and then create some basic programming and machine learning examples. We are going to import number of libraries from sklearn which are going to use further. There are various markdown options in Jupyter notebook which provide us smooth python coding in jupyter note book."
   ]
  },
  {
   "cell_type": "markdown",
   "id": "c2850a31",
   "metadata": {},
   "source": [
    "### Sections\n",
    "For this lab, the sections are -\n",
    "1. Lab Overview\n",
    "1. Importing basic Libraries(sklearn)\n",
    "1. Exploring different subsets of sklearn\n",
    "1. Various examples\n",
    "1. Compairing different matrices\n",
    "1. Refrences\n",
    "1. Conclusion"
   ]
  },
  {
   "cell_type": "code",
   "execution_count": 5,
   "id": "5a7beb0c",
   "metadata": {},
   "outputs": [],
   "source": [
    "#importing libraries\n",
    "from sklearn.datasets import load_boston\n",
    "import pandas as pd\n",
    "import numpy as np\n",
    "import matplotlib\n",
    "import matplotlib.pyplot as plt\n",
    "import seaborn as sns\n",
    "%matplotlib inline\n",
    "from sklearn.model_selection import train_test_split\n",
    "from sklearn.linear_model import LinearRegression\n",
    "from sklearn.feature_selection import RFE\n",
    "from sklearn.linear_model import RidgeCV, LassoCV, Ridge, Lasso\n",
    "from sklearn.metrics import confusion_matrix\n",
    "from sklearn.metrics import precision_score, recall_score, f1_score, roc_auc_score, accuracy_score, classification_report\n",
    "from sklearn import metrics\n",
    "import warnings\n",
    "warnings.filterwarnings('ignore')"
   ]
  },
  {
   "cell_type": "markdown",
   "id": "350dc9c8",
   "metadata": {},
   "source": [
    "## PART:01"
   ]
  },
  {
   "cell_type": "markdown",
   "id": "41281a7d",
   "metadata": {},
   "source": [
    "#### train_test_split from sklearn.model_selection\n",
    "- train_test_split is a function in Sklearn model selection for splitting data set into two subsets: for training data and for testing data. With this function, you don't need to divide the dataset manually. By default, Sklearn train_test_split will make random partitions for the two subsets."
   ]
  },
  {
   "cell_type": "markdown",
   "id": "22f0f299",
   "metadata": {},
   "source": [
    "#### make_classification and load_iris from sklearn.datasets\n",
    "- make_classification, Generate a random n-class classification problem. This initially creates clusters of points normally distributed (std=1) about vertices of an n_informative -dimensional hypercube with sides of length 2*class_sep and assigns an equal number of clusters to each class.\n",
    "- scikit-learn comes with a few small standard datasets that do not require to download any file from some external website. load_iris, load and return the iris dataset (classification). The iris dataset is a classic and very easy multi-class classification dataset."
   ]
  },
  {
   "cell_type": "markdown",
   "id": "74b9ed86",
   "metadata": {},
   "source": [
    "#### make_regression and load_boston from sklearn.datasets\n",
    "- Generate a random regression problem. The number of regression targets, i.e., the dimension of the y output vector associated with a sample. By default, the output is a scalar. biasfloat, default=0.0. The bias term in the underlying linear model.\n",
    "- Boston Dataset is a part of sklearn library. Sklearn comes loaded with datasets to practice machine learning techniques and boston is one of them. Boston has 13 numerical features and a numerical target variable. Boston dataset can be used for regression."
   ]
  },
  {
   "cell_type": "markdown",
   "id": "65d434bc",
   "metadata": {},
   "source": [
    "#### DummyClassifier and DummyRegressor from sklearn.dummy\n",
    "- A dummy classifier is exactly what it sounds like! It is a classifier model that makes predictions without trying to find patterns in the data. The default model essentially looks at what label is most frequent in the training dataset and makes predictions based on that label. But, before we go ahead and build a dummy classifier, we need to know how to compare the model in hand to the Dummy Classifier.\n",
    "- The Dummy Regressor is a kind of Regressor that gives prediction based on simple strategies without paying any attention to the input Data. As similar to Dummy Classifier the sklearn library also provides Dummy Regressor which is used to set up a baseline for comparing other existing Regressor namely  Poisson Regressor, Linear Regression, Ridge Regression and many more. However, in this article, the main focus will be to draw a comparison between Dummy Regression and Linear regression."
   ]
  },
  {
   "cell_type": "markdown",
   "id": "104083d4",
   "metadata": {},
   "source": [
    "####  accuracy_score, classification_report, and confusion_matrix from sklearn.metrics\n",
    "- sklearn.metrics.accuracy_score Accuracy classification score. In multilabel classification, this function computes subset accuracy: the set of labels predicted for a sample must exactly match the corresponding set of labels in y_true.\n",
    "- A Classification report is used to measure the quality of predictions from a classification algorithm. How many predictions are True and how many are False. More specifically, True Positives, False Positives, True negatives and False Negatives are used to predict the metrics of a classification report as shown below.                                                               \n",
    "- A Confusion matrix is an N x N matrix used for evaluating the performance of a classification model, where N is the number of target classes. The matrix compares the actual target values with those predicted by the machine learning model. This gives us a holistic view of how well our classification model is performing and what kinds of errors it is making."
   ]
  },
  {
   "cell_type": "markdown",
   "id": "720d5b46",
   "metadata": {},
   "source": [
    "## PART:2"
   ]
  },
  {
   "cell_type": "markdown",
   "id": "26676663",
   "metadata": {},
   "source": [
    "#### What are the different parameters of the above functions/methods that are part of the above SKLearn modules?"
   ]
  },
  {
   "cell_type": "code",
   "execution_count": 7,
   "id": "db588a47",
   "metadata": {},
   "outputs": [
    {
     "data": {
      "application/javascript": [
       "\n",
       "        if (window._pyforest_update_imports_cell) { window._pyforest_update_imports_cell('import sklearn'); }\n",
       "    "
      ],
      "text/plain": [
       "<IPython.core.display.Javascript object>"
      ]
     },
     "metadata": {},
     "output_type": "display_data"
    },
    {
     "data": {
      "text/plain": [
       "<function sklearn.model_selection._split.train_test_split(*arrays, test_size=None, train_size=None, random_state=None, shuffle=True, stratify=None)>"
      ]
     },
     "execution_count": 7,
     "metadata": {},
     "output_type": "execute_result"
    }
   ],
   "source": [
    "sklearn.model_selection.train_test_split #There are different prameters of 'sklearn.model_selection.train_test_split'."
   ]
  },
  {
   "cell_type": "code",
   "execution_count": 8,
   "id": "b399c76f",
   "metadata": {},
   "outputs": [
    {
     "data": {
      "application/javascript": [
       "\n",
       "        if (window._pyforest_update_imports_cell) { window._pyforest_update_imports_cell('import sklearn'); }\n",
       "    "
      ],
      "text/plain": [
       "<IPython.core.display.Javascript object>"
      ]
     },
     "metadata": {},
     "output_type": "display_data"
    },
    {
     "data": {
      "text/plain": [
       "<function sklearn.datasets._samples_generator.make_classification(n_samples=100, n_features=20, *, n_informative=2, n_redundant=2, n_repeated=0, n_classes=2, n_clusters_per_class=2, weights=None, flip_y=0.01, class_sep=1.0, hypercube=True, shift=0.0, scale=1.0, shuffle=True, random_state=None)>"
      ]
     },
     "execution_count": 8,
     "metadata": {},
     "output_type": "execute_result"
    }
   ],
   "source": [
    "sklearn.datasets.make_classification #These are different parameters of 'sklearn.datasets.make_classification'."
   ]
  },
  {
   "cell_type": "code",
   "execution_count": 9,
   "id": "03c44e07",
   "metadata": {},
   "outputs": [
    {
     "data": {
      "application/javascript": [
       "\n",
       "        if (window._pyforest_update_imports_cell) { window._pyforest_update_imports_cell('import sklearn'); }\n",
       "    "
      ],
      "text/plain": [
       "<IPython.core.display.Javascript object>"
      ]
     },
     "metadata": {},
     "output_type": "display_data"
    },
    {
     "data": {
      "text/plain": [
       "<function sklearn.datasets._samples_generator.make_regression(n_samples=100, n_features=100, *, n_informative=10, n_targets=1, bias=0.0, effective_rank=None, tail_strength=0.5, noise=0.0, shuffle=True, coef=False, random_state=None)>"
      ]
     },
     "execution_count": 9,
     "metadata": {},
     "output_type": "execute_result"
    }
   ],
   "source": [
    "sklearn.datasets.make_regression #These are different parameters of 'sklearn.datasets.make_regression'."
   ]
  },
  {
   "cell_type": "code",
   "execution_count": 12,
   "id": "7f1079e0",
   "metadata": {},
   "outputs": [],
   "source": [
    "from sklearn.dummy import DummyRegressor\n",
    "from sklearn.dummy import DummyClassifier"
   ]
  },
  {
   "cell_type": "code",
   "execution_count": 13,
   "id": "a01bde6e",
   "metadata": {},
   "outputs": [
    {
     "data": {
      "text/plain": [
       "<function sklearn.metrics._classification.accuracy_score(y_true, y_pred, *, normalize=True, sample_weight=None)>"
      ]
     },
     "execution_count": 13,
     "metadata": {},
     "output_type": "execute_result"
    }
   ],
   "source": [
    "accuracy_score"
   ]
  },
  {
   "cell_type": "code",
   "execution_count": 14,
   "id": "ced054f5",
   "metadata": {},
   "outputs": [
    {
     "data": {
      "text/plain": [
       "<function sklearn.metrics._classification.classification_report(y_true, y_pred, *, labels=None, target_names=None, sample_weight=None, digits=2, output_dict=False, zero_division='warn')>"
      ]
     },
     "execution_count": 14,
     "metadata": {},
     "output_type": "execute_result"
    }
   ],
   "source": [
    "classification_report"
   ]
  },
  {
   "cell_type": "code",
   "execution_count": 15,
   "id": "4d27f75b",
   "metadata": {},
   "outputs": [
    {
     "data": {
      "application/javascript": [
       "\n",
       "        if (window._pyforest_update_imports_cell) { window._pyforest_update_imports_cell('import sklearn'); }\n",
       "    "
      ],
      "text/plain": [
       "<IPython.core.display.Javascript object>"
      ]
     },
     "metadata": {},
     "output_type": "display_data"
    },
    {
     "data": {
      "text/plain": [
       "<function sklearn.metrics._classification.confusion_matrix(y_true, y_pred, *, labels=None, sample_weight=None, normalize=None)>"
      ]
     },
     "execution_count": 15,
     "metadata": {},
     "output_type": "execute_result"
    }
   ],
   "source": [
    "sklearn.metrics.confusion_matrix"
   ]
  },
  {
   "cell_type": "markdown",
   "id": "796d90e8",
   "metadata": {},
   "source": [
    "### What is the effect, when you modify certain parameters that are present in the same."
   ]
  },
  {
   "cell_type": "markdown",
   "id": "bc510aac",
   "metadata": {},
   "source": [
    "- Model Parameters: These are the parameters in the model that must be determined using the training data set. These are the fitted parameters. \n",
    "- Hyperparameters: These are adjustable parameters that must be tuned in order to obtain a model with optimal performance."
   ]
  },
  {
   "cell_type": "markdown",
   "id": "2f69bb00",
   "metadata": {},
   "source": [
    "### How to get different train and test datasets?"
   ]
  },
  {
   "cell_type": "markdown",
   "id": "71cb348e",
   "metadata": {},
   "source": [
    "- First of all, training data and testing data come from a single dataset. It is the main data set that is split into training and testing that means training and testing data will have the same features. When you train a model on a training set it just finds the right set of parameters that will make the predicted value as close to the actual value and when you make predictions on the testing data the model just uses the same set of parameters that it found during training to do prediction on test data. In the case of Simple Linear Regression these parameters are intercept and slope of a line. Once the model finds them, it uses the same parameters to make predictions on the test set. Something you can do is to combine the two datasets and randomly shuffle them. Then, split the resulting dataset into train/test sets. Using previpus codes we can get different train and test data sets.\n",
    "- sklearn.model_selection.train_test_split(*arrays, test_size=None, train_size=None, random_state=None, shuffle=True, stratify=None) \n"
   ]
  },
  {
   "cell_type": "markdown",
   "id": "776e8ab7",
   "metadata": {},
   "source": [
    "sklearn.model_selection.train_test_split(*arrays, test_size=None, train_size=None, random_state=None, shuffle=True, stratify=None) "
   ]
  },
  {
   "cell_type": "markdown",
   "id": "552855a8",
   "metadata": {},
   "source": [
    "### Identify which are features and which are targets in Part 1b, and Part 1c (make_classification and make_regression would depend on your inputs on the function call)"
   ]
  },
  {
   "cell_type": "code",
   "execution_count": 16,
   "id": "7cd30f77",
   "metadata": {},
   "outputs": [],
   "source": [
    "from sklearn.datasets import load_boston\n",
    "boston = load_boston()"
   ]
  },
  {
   "cell_type": "code",
   "execution_count": 17,
   "id": "4394f400",
   "metadata": {},
   "outputs": [
    {
     "name": "stdout",
     "output_type": "stream",
     "text": [
      "['CRIM' 'ZN' 'INDUS' 'CHAS' 'NOX' 'RM' 'AGE' 'DIS' 'RAD' 'TAX' 'PTRATIO'\n",
      " 'B' 'LSTAT']\n"
     ]
    }
   ],
   "source": [
    "print(boston.feature_names) #features"
   ]
  },
  {
   "cell_type": "code",
   "execution_count": 18,
   "id": "6a057a6a",
   "metadata": {},
   "outputs": [],
   "source": [
    "boston['Price'] = boston.target    #Target"
   ]
  },
  {
   "cell_type": "code",
   "execution_count": 19,
   "id": "261d7594",
   "metadata": {},
   "outputs": [],
   "source": [
    "from sklearn.datasets import load_iris\n",
    "iris = load_iris()"
   ]
  },
  {
   "cell_type": "code",
   "execution_count": 20,
   "id": "1f6c5a2e",
   "metadata": {},
   "outputs": [
    {
     "name": "stdout",
     "output_type": "stream",
     "text": [
      "['sepal length (cm)', 'sepal width (cm)', 'petal length (cm)', 'petal width (cm)']\n"
     ]
    }
   ],
   "source": [
    "print(iris.feature_names) #features"
   ]
  },
  {
   "cell_type": "markdown",
   "id": "24610219",
   "metadata": {},
   "source": [
    "### Identify what the things mentioned in Part 1d stands for. \n",
    "- A dummy classifier is a type of classifier which does not generate any insight about the data and classifies the given data using only simple rules.\n",
    "- Regressor that makes predictions using simple rules. This regressor is useful as a simple baseline to compare with other (real) regressors."
   ]
  },
  {
   "cell_type": "markdown",
   "id": "6e659270",
   "metadata": {},
   "source": [
    "### Making use of Part 1d, explore the various options available under Part 1e."
   ]
  },
  {
   "cell_type": "code",
   "execution_count": 21,
   "id": "2fa128ca",
   "metadata": {},
   "outputs": [],
   "source": [
    "import numpy as np\n",
    "import pandas as pd\n",
    "from sklearn.model_selection import train_test_split\n",
    "from sklearn.neighbors import KNeighborsClassifier\n",
    "import matplotlib.pyplot as plt \n",
    "import seaborn as sns"
   ]
  },
  {
   "cell_type": "code",
   "execution_count": 22,
   "id": "2cafb3b6",
   "metadata": {},
   "outputs": [],
   "source": [
    "#Using Breast Cancer Wisconsin (Diagnostic) Data Set from kaggle\n",
    "# Changing the read file location to the location of the file \n",
    "df = pd.read_csv('data.csv')\n",
    "  \n",
    "y = df['diagnosis']\n",
    "X = df.drop('diagnosis', axis = 1)\n",
    "X = X.drop('Unnamed: 32', axis = 1)\n",
    "X = X.drop('id', axis = 1)\n",
    "# Separating the dependent and independent variable\n",
    "  \n",
    "X_train, X_test, y_train, y_test = train_test_split(\n",
    "            X, y, test_size = 0.3, random_state = 0)\n",
    "# Splitting the data into training and testing data"
   ]
  },
  {
   "cell_type": "code",
   "execution_count": 23,
   "id": "af8e574a",
   "metadata": {},
   "outputs": [],
   "source": [
    "strategies = ['most_frequent', 'stratified', 'uniform', 'constant']\n",
    "  \n",
    "test_scores = []\n",
    "for s in strategies:\n",
    "    if s =='constant':\n",
    "        dclf = DummyClassifier(strategy = s, random_state = 0, constant ='M')\n",
    "    else:\n",
    "        dclf = DummyClassifier(strategy = s, random_state = 0)\n",
    "    dclf.fit(X_train, y_train)\n",
    "    score = dclf.score(X_test, y_test)\n",
    "    test_scores.append(score)"
   ]
  },
  {
   "cell_type": "code",
   "execution_count": 24,
   "id": "5b515818",
   "metadata": {},
   "outputs": [
    {
     "data": {
      "image/png": "[encoded data removed]",
      "text/plain": [
       "<Figure size 432x288 with 1 Axes>"
      ]
     },
     "metadata": {
      "needs_background": "light"
     },
     "output_type": "display_data"
    }
   ],
   "source": [
    "#Drawing the scores to compair scores\n",
    "ax = sns.stripplot(strategies, test_scores);\n",
    "ax.set(xlabel ='Strategy', ylabel ='Test Score')\n",
    "plt.show()"
   ]
  },
  {
   "cell_type": "code",
   "execution_count": 25,
   "id": "abe4b09c",
   "metadata": {},
   "outputs": [
    {
     "name": "stdout",
     "output_type": "stream",
     "text": [
      "0.9473684210526315\n"
     ]
    }
   ],
   "source": [
    "clf = KNeighborsClassifier(n_neighbors = 5)\n",
    "clf.fit(X_train, y_train)\n",
    "print(clf.score(X_test, y_test))"
   ]
  },
  {
   "cell_type": "markdown",
   "id": "fa096cce",
   "metadata": {},
   "source": [
    "On comparing the scores of the KNN classifier with the dummy classifier, we come to the conclusion that the KNN classifier is, in fact, a good classifier for the given data."
   ]
  },
  {
   "cell_type": "code",
   "execution_count": 26,
   "id": "de939079",
   "metadata": {},
   "outputs": [],
   "source": [
    "# Applying Logistic Rgression to get other matrices.\n",
    "from sklearn.linear_model import LogisticRegression\n",
    "logreg=LogisticRegression()\n",
    "logreg.fit(X_train,y_train)\n",
    "y_pred=logreg.predict(X_test)"
   ]
  },
  {
   "cell_type": "code",
   "execution_count": 27,
   "id": "21855642",
   "metadata": {},
   "outputs": [
    {
     "name": "stdout",
     "output_type": "stream",
     "text": [
      "Accuracy Score of model: 0.9532163742690059\n"
     ]
    }
   ],
   "source": [
    "print(\"Accuracy Score of model:\", accuracy_score(y_test,y_pred))"
   ]
  },
  {
   "cell_type": "code",
   "execution_count": 28,
   "id": "249467c9",
   "metadata": {},
   "outputs": [
    {
     "data": {
      "text/plain": [
       "<AxesSubplot:>"
      ]
     },
     "execution_count": 28,
     "metadata": {},
     "output_type": "execute_result"
    },
    {
     "data": {
      "image/png": "[encoded data removed]",
      "text/plain": [
       "<Figure size 576x360 with 2 Axes>"
      ]
     },
     "metadata": {
      "needs_background": "light"
     },
     "output_type": "display_data"
    }
   ],
   "source": [
    "#drawing Confusion Matrix\n",
    "from sklearn.metrics import confusion_matrix\n",
    "cm=confusion_matrix(y_test,y_pred)\n",
    "conf_matrix=pd.DataFrame(data=cm,columns=['Predicted:0','Predicted:1'],index=['Actual:0','Actual:1'])\n",
    "plt.figure(figsize = (8,5))\n",
    "sns.heatmap(conf_matrix, annot=True,fmt='d',cmap=\"YlGnBu\")"
   ]
  },
  {
   "cell_type": "markdown",
   "id": "41557420",
   "metadata": {},
   "source": [
    "# References\n",
    "- https://scikit-learn.org/stable/modules/generated/sklearn.datasets.make_classification.html\n",
    "- https://scikit-learn.org/stable/modules/generated/sklearn.model_selection.train_test_split.html\n",
    "- https://www.kaggle.com/uciml/breast-cancer-wisconsin-data\n",
    "- https://muthu.co/understanding-the-classification-report-in-sklearn/\n",
    "- https://www.geeksforgeeks.org/dummy-regressor/"
   ]
  },
  {
   "cell_type": "markdown",
   "id": "8a35eacf",
   "metadata": {},
   "source": [
    "## Conclusion/Results\n",
    "This assignment given us the basic idea about the ML/Analysis, libraries, datasets and various subparts of sklearn, it's uses and different parameter matrices."
   ]
  }
 ],
 "metadata": {
  "kernelspec": {
   "display_name": "Python 3 (ipykernel)",
   "language": "python",
   "name": "python3"
  },
  "language_info": {
   "codemirror_mode": {
    "name": "ipython",
    "version": 3
   },
   "file_extension": ".py",
   "mimetype": "text/x-python",
   "name": "python",
   "nbconvert_exporter": "python",
   "pygments_lexer": "ipython3",
   "version": "3.9.7"
  }
 },
 "nbformat": 4,
 "nbformat_minor": 5
}
