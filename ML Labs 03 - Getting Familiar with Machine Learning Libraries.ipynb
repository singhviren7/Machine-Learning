{
 "cells": [
  {
   "cell_type": "markdown",
   "id": "9b482834",
   "metadata": {},
   "source": [
    "********************************************************************************************************************************\n",
    "#  ML Lab 03 - Getting Familiar with Machine Learning Libraries\n",
    "<hr/>\n",
    "\n",
    "By: **Virendra Singh** <br>\n",
    "Linkedin: https://www.linkedin.com/in/singhviren7/\n",
    "\n",
    "<hr/>\n"
   ]
  },
  {
   "cell_type": "markdown",
   "id": "5762993b",
   "metadata": {},
   "source": [
    "## Lab Overview  \n",
    "### Objectives\n",
    "\n",
    "- Solve the below 10-step problem:\n",
    "1. Download the 80-cereals dataset from https://www.kaggle.com/crawford/80-cereals\n",
    "2. Load the dataset using pd.read_csv method.\n",
    "3. a. In the column \"mfr\", replace the column \"K\" as \"Kellogg's\", \"G\" as \"Nestle\" and all other values as \"Other Brands\".\n",
    "   b. In the column \"type\", replace \"C\" with \"Type 1\" and \"H\" with \"Type 2\".\n",
    "4. Visualise the count of above two features \"mfr\" and \"type\" with a bar-plot.\n",
    "5. Describe the five-number summary and boxplots of the features - protien, sugars, fat, carbo.\n",
    "6. Plot Histograms for the features - fat, carbo, sodium, fiber.\n",
    "7. Split the datasets into following ratios: 60:40, 70:30, 80:20. Write down what happens when you give \"random_state\" parameter with a constant value and what happens if you do not mention the parameter at all.\n",
    "8. Apply MinMaxScaler() and StandardScaler() to the following features: calories, protien, fat, sodium, fiber, carbo, sugars.\n",
    "9. Does the standard or min-max scaling make a difference in value distribution? Support your answers with some visualisations on the above dataset.\n",
    "10. As an extension of 7th step, Generate a new Pandas DataFrame with the following columns based on the Training Dataset: Split Ratio | Random State | Total Number of Entries | Count of Kellogg's | Count of Nestle | Count of Other Brands."
   ]
  },
  {
   "cell_type": "markdown",
   "id": "c3a60f8e",
   "metadata": {},
   "source": [
    "### Problem Definition\n",
    "An Analytics-based firm has chosen you to be part of their training process in Machine Learning Libraries. They have designed a 10-step problem, which will help you to familiarise the basics and pre-requisites."
   ]
  },
  {
   "cell_type": "markdown",
   "id": "6fc2162a",
   "metadata": {},
   "source": [
    "### Approach\n",
    "Starts with getting femalior with dataset and it's pre-requisites, importing the basic libraries. Will use various markdown options in Jupyter notebook which provide us smooth python coding in jupyter note book. Will solve sep by step using required libraries and plots."
   ]
  },
  {
   "cell_type": "markdown",
   "id": "a305d340",
   "metadata": {},
   "source": [
    "## CODE:"
   ]
  },
  {
   "cell_type": "code",
   "execution_count": 1,
   "id": "d31349e1",
   "metadata": {},
   "outputs": [],
   "source": [
    "# Importing the libraries.\n",
    "import pandas as pd\n",
    "import numpy as np\n",
    "import matplotlib.pyplot as plt\n",
    "import seaborn as sns\n",
    "import matplotlib.pyplot as plt\n",
    "import seaborn as sns\n",
    "%matplotlib inline\n",
    "import warnings\n",
    "warnings.filterwarnings('ignore')"
   ]
  },
  {
   "cell_type": "markdown",
   "id": "035cc70a",
   "metadata": {},
   "source": [
    "<hr>"
   ]
  },
  {
   "cell_type": "markdown",
   "id": "755d04cc",
   "metadata": {},
   "source": [
    "- Download the 80-cereals dataset from given link.\n",
    "  - Link: https://www.kaggle.com/crawford/80-cereals"
   ]
  },
  {
   "cell_type": "markdown",
   "id": "5f912fdb",
   "metadata": {},
   "source": [
    "<hr>\n",
    " - Loading the Dataset."
   ]
  },
  {
   "cell_type": "code",
   "execution_count": 2,
   "id": "abf7d02a",
   "metadata": {},
   "outputs": [],
   "source": [
    "df=pd.read_csv(\"cereal.csv\")"
   ]
  },
  {
   "cell_type": "code",
   "execution_count": 3,
   "id": "89799340",
   "metadata": {},
   "outputs": [
    {
     "data": {
      "text/html": [
       "<div>\n",
       "<style scoped>\n",
       "    .dataframe tbody tr th:only-of-type {\n",
       "        vertical-align: middle;\n",
       "    }\n",
       "\n",
       "    .dataframe tbody tr th {\n",
       "        vertical-align: top;\n",
       "    }\n",
       "\n",
       "    .dataframe thead th {\n",
       "        text-align: right;\n",
       "    }\n",
       "</style>\n",
       "<table border=\"1\" class=\"dataframe\">\n",
       "  <thead>\n",
       "    <tr style=\"text-align: right;\">\n",
       "      <th></th>\n",
       "      <th>name</th>\n",
       "      <th>mfr</th>\n",
       "      <th>type</th>\n",
       "      <th>calories</th>\n",
       "      <th>protein</th>\n",
       "      <th>fat</th>\n",
       "      <th>sodium</th>\n",
       "      <th>fiber</th>\n",
       "      <th>carbo</th>\n",
       "      <th>sugars</th>\n",
       "      <th>potass</th>\n",
       "      <th>vitamins</th>\n",
       "      <th>shelf</th>\n",
       "      <th>weight</th>\n",
       "      <th>cups</th>\n",
       "      <th>rating</th>\n",
       "    </tr>\n",
       "  </thead>\n",
       "  <tbody>\n",
       "    <tr>\n",
       "      <th>0</th>\n",
       "      <td>100% Bran</td>\n",
       "      <td>N</td>\n",
       "      <td>C</td>\n",
       "      <td>70</td>\n",
       "      <td>4</td>\n",
       "      <td>1</td>\n",
       "      <td>130</td>\n",
       "      <td>10.0</td>\n",
       "      <td>5.0</td>\n",
       "      <td>6</td>\n",
       "      <td>280</td>\n",
       "      <td>25</td>\n",
       "      <td>3</td>\n",
       "      <td>1.0</td>\n",
       "      <td>0.33</td>\n",
       "      <td>68.402973</td>\n",
       "    </tr>\n",
       "    <tr>\n",
       "      <th>1</th>\n",
       "      <td>100% Natural Bran</td>\n",
       "      <td>Q</td>\n",
       "      <td>C</td>\n",
       "      <td>120</td>\n",
       "      <td>3</td>\n",
       "      <td>5</td>\n",
       "      <td>15</td>\n",
       "      <td>2.0</td>\n",
       "      <td>8.0</td>\n",
       "      <td>8</td>\n",
       "      <td>135</td>\n",
       "      <td>0</td>\n",
       "      <td>3</td>\n",
       "      <td>1.0</td>\n",
       "      <td>1.00</td>\n",
       "      <td>33.983679</td>\n",
       "    </tr>\n",
       "    <tr>\n",
       "      <th>2</th>\n",
       "      <td>All-Bran</td>\n",
       "      <td>K</td>\n",
       "      <td>C</td>\n",
       "      <td>70</td>\n",
       "      <td>4</td>\n",
       "      <td>1</td>\n",
       "      <td>260</td>\n",
       "      <td>9.0</td>\n",
       "      <td>7.0</td>\n",
       "      <td>5</td>\n",
       "      <td>320</td>\n",
       "      <td>25</td>\n",
       "      <td>3</td>\n",
       "      <td>1.0</td>\n",
       "      <td>0.33</td>\n",
       "      <td>59.425505</td>\n",
       "    </tr>\n",
       "    <tr>\n",
       "      <th>3</th>\n",
       "      <td>All-Bran with Extra Fiber</td>\n",
       "      <td>K</td>\n",
       "      <td>C</td>\n",
       "      <td>50</td>\n",
       "      <td>4</td>\n",
       "      <td>0</td>\n",
       "      <td>140</td>\n",
       "      <td>14.0</td>\n",
       "      <td>8.0</td>\n",
       "      <td>0</td>\n",
       "      <td>330</td>\n",
       "      <td>25</td>\n",
       "      <td>3</td>\n",
       "      <td>1.0</td>\n",
       "      <td>0.50</td>\n",
       "      <td>93.704912</td>\n",
       "    </tr>\n",
       "    <tr>\n",
       "      <th>4</th>\n",
       "      <td>Almond Delight</td>\n",
       "      <td>R</td>\n",
       "      <td>C</td>\n",
       "      <td>110</td>\n",
       "      <td>2</td>\n",
       "      <td>2</td>\n",
       "      <td>200</td>\n",
       "      <td>1.0</td>\n",
       "      <td>14.0</td>\n",
       "      <td>8</td>\n",
       "      <td>-1</td>\n",
       "      <td>25</td>\n",
       "      <td>3</td>\n",
       "      <td>1.0</td>\n",
       "      <td>0.75</td>\n",
       "      <td>34.384843</td>\n",
       "    </tr>\n",
       "  </tbody>\n",
       "</table>\n",
       "</div>"
      ],
      "text/plain": [
       "                        name mfr type  calories  protein  fat  sodium  fiber  \\\n",
       "0                  100% Bran   N    C        70        4    1     130   10.0   \n",
       "1          100% Natural Bran   Q    C       120        3    5      15    2.0   \n",
       "2                   All-Bran   K    C        70        4    1     260    9.0   \n",
       "3  All-Bran with Extra Fiber   K    C        50        4    0     140   14.0   \n",
       "4             Almond Delight   R    C       110        2    2     200    1.0   \n",
       "\n",
       "   carbo  sugars  potass  vitamins  shelf  weight  cups     rating  \n",
       "0    5.0       6     280        25      3     1.0  0.33  68.402973  \n",
       "1    8.0       8     135         0      3     1.0  1.00  33.983679  \n",
       "2    7.0       5     320        25      3     1.0  0.33  59.425505  \n",
       "3    8.0       0     330        25      3     1.0  0.50  93.704912  \n",
       "4   14.0       8      -1        25      3     1.0  0.75  34.384843  "
      ]
     },
     "execution_count": 3,
     "metadata": {},
     "output_type": "execute_result"
    }
   ],
   "source": [
    "df.head() #Chacking first five rows."
   ]
  },
  {
   "cell_type": "code",
   "execution_count": 4,
   "id": "bb012625",
   "metadata": {},
   "outputs": [
    {
     "name": "stdout",
     "output_type": "stream",
     "text": [
      "Shape of Dataset:\n",
      "Number of Features: 77\n",
      "Number of Observations: 16\n"
     ]
    }
   ],
   "source": [
    "print(\"Shape of Dataset:\")\n",
    "print(\"Number of Features:\",df.shape[0])\n",
    "print(\"Number of Observations:\",df.shape[1])"
   ]
  },
  {
   "cell_type": "markdown",
   "id": "038fc6d1",
   "metadata": {},
   "source": [
    "<hr>"
   ]
  },
  {
   "cell_type": "markdown",
   "id": "542a599a",
   "metadata": {},
   "source": [
    "- In the column \"mfr\", replace the column \"K\" as \"Kellogg's\", \"G\" as \"Nestle\" and all other values as \"Other Brands\"."
   ]
  },
  {
   "cell_type": "code",
   "execution_count": 5,
   "id": "ee72959e",
   "metadata": {},
   "outputs": [],
   "source": [
    "# Creating a function for each given replacement.\n",
    "def mfr_change(x):\n",
    "    if(x==\"K\"):\n",
    "        return(\"Kellogg's\")\n",
    "    elif(x==\"G\"):\n",
    "        return(\"Nastle\")\n",
    "    else:\n",
    "        return(\"Othder Brands\")"
   ]
  },
  {
   "cell_type": "code",
   "execution_count": 6,
   "id": "ad424d39",
   "metadata": {},
   "outputs": [],
   "source": [
    "# Applying the function in \"mfr\" column.\n",
    "df.mfr=df.mfr.apply(mfr_change)"
   ]
  },
  {
   "cell_type": "code",
   "execution_count": 7,
   "id": "c254e769",
   "metadata": {},
   "outputs": [
    {
     "data": {
      "text/plain": [
       "Othder Brands    32\n",
       "Kellogg's        23\n",
       "Nastle           22\n",
       "Name: mfr, dtype: int64"
      ]
     },
     "execution_count": 7,
     "metadata": {},
     "output_type": "execute_result"
    }
   ],
   "source": [
    "# Checking...\n",
    "df.mfr.value_counts()"
   ]
  },
  {
   "cell_type": "markdown",
   "id": "6ce9d13b",
   "metadata": {},
   "source": [
    "- In the column \"type\", replace \"C\" with \"Type 1\" and \"H\" with \"Type 2\"."
   ]
  },
  {
   "cell_type": "code",
   "execution_count": 8,
   "id": "04f120af",
   "metadata": {},
   "outputs": [
    {
     "data": {
      "text/plain": [
       "C    74\n",
       "H     3\n",
       "Name: type, dtype: int64"
      ]
     },
     "execution_count": 8,
     "metadata": {},
     "output_type": "execute_result"
    }
   ],
   "source": [
    "df.type.value_counts() #Given values."
   ]
  },
  {
   "cell_type": "code",
   "execution_count": 9,
   "id": "15c705b5",
   "metadata": {},
   "outputs": [],
   "source": [
    "#Creating the function to change the values.\n",
    "def type_change(x):\n",
    "    if(x==\"C\"):\n",
    "        return(\"Type 1\")\n",
    "    elif(x==\"H\"):\n",
    "        return(\"Type 2\")"
   ]
  },
  {
   "cell_type": "code",
   "execution_count": 10,
   "id": "ed1edc7d",
   "metadata": {},
   "outputs": [],
   "source": [
    "# Applying the function in the column.\n",
    "df[\"type\"]=df[\"type\"].apply(type_change)"
   ]
  },
  {
   "cell_type": "code",
   "execution_count": 11,
   "id": "ad7d211d",
   "metadata": {},
   "outputs": [
    {
     "data": {
      "text/plain": [
       "Type 1    74\n",
       "Type 2     3\n",
       "Name: type, dtype: int64"
      ]
     },
     "execution_count": 11,
     "metadata": {},
     "output_type": "execute_result"
    }
   ],
   "source": [
    "df.type.value_counts() # After the change."
   ]
  },
  {
   "cell_type": "markdown",
   "id": "873b4cae",
   "metadata": {},
   "source": [
    "<hr>"
   ]
  },
  {
   "cell_type": "code",
   "execution_count": 12,
   "id": "06fdebb8",
   "metadata": {},
   "outputs": [
    {
     "data": {
      "image/png": "[encoded data removed]",
      "text/plain": [
       "<Figure size 432x288 with 1 Axes>"
      ]
     },
     "metadata": {
      "needs_background": "light"
     },
     "output_type": "display_data"
    }
   ],
   "source": [
    "# Plotting the count of \"mfr\".\n",
    "mfr_c=df.mfr.value_counts()\n",
    "mfr_c.plot(kind=\"bar\",color=\"red\")\n",
    "plt.title(\"Count of 'mfr' with a bar-plot\")\n",
    "plt.show()"
   ]
  },
  {
   "cell_type": "code",
   "execution_count": 13,
   "id": "3ddbaadd",
   "metadata": {},
   "outputs": [
    {
     "data": {
      "image/png": "[encoded data removed]",
      "text/plain": [
       "<Figure size 720x432 with 1 Axes>"
      ]
     },
     "metadata": {
      "needs_background": "light"
     },
     "output_type": "display_data"
    }
   ],
   "source": [
    "# Plotting the count of \"type\".\n",
    "plt.figure(figsize=(10,6))\n",
    "df.type.value_counts().plot(kind=\"bar\", color=\"yellow\")\n",
    "plt.title(\"Count of 'type' with a bar-plot\")\n",
    "plt.show()"
   ]
  },
  {
   "cell_type": "markdown",
   "id": "77ef2268",
   "metadata": {},
   "source": [
    "<hr>"
   ]
  },
  {
   "cell_type": "markdown",
   "id": "e3e69c08",
   "metadata": {},
   "source": [
    "#### Five number summary:\n",
    "` A five-number summary is especially useful in descriptive analyses or during the preliminary investigation of a large data set.`\n",
    "- This makes the five-number summary a useful measure of spread. A summary consists of five values: \n",
    "  - the most extreme values in the data set (the maximum and minimum values), \n",
    "  - the lower and upper quartiles, and the median. \n",
    "  - These values are presented together and ordered from lowest to highest: minimum value. \n",
    "  - lower quartile (Q1), median value (Q2), upper quartile (Q3), maximum value."
   ]
  },
  {
   "cell_type": "code",
   "execution_count": 14,
   "id": "f93ac17a",
   "metadata": {},
   "outputs": [
    {
     "data": {
      "text/html": [
       "<div>\n",
       "<style scoped>\n",
       "    .dataframe tbody tr th:only-of-type {\n",
       "        vertical-align: middle;\n",
       "    }\n",
       "\n",
       "    .dataframe tbody tr th {\n",
       "        vertical-align: top;\n",
       "    }\n",
       "\n",
       "    .dataframe thead th {\n",
       "        text-align: right;\n",
       "    }\n",
       "</style>\n",
       "<table border=\"1\" class=\"dataframe\">\n",
       "  <thead>\n",
       "    <tr style=\"text-align: right;\">\n",
       "      <th></th>\n",
       "      <th>calories</th>\n",
       "      <th>protein</th>\n",
       "      <th>fat</th>\n",
       "      <th>sodium</th>\n",
       "      <th>fiber</th>\n",
       "      <th>carbo</th>\n",
       "      <th>sugars</th>\n",
       "      <th>potass</th>\n",
       "      <th>vitamins</th>\n",
       "      <th>shelf</th>\n",
       "      <th>weight</th>\n",
       "      <th>cups</th>\n",
       "      <th>rating</th>\n",
       "    </tr>\n",
       "  </thead>\n",
       "  <tbody>\n",
       "    <tr>\n",
       "      <th>count</th>\n",
       "      <td>77.000000</td>\n",
       "      <td>77.000000</td>\n",
       "      <td>77.000000</td>\n",
       "      <td>77.000000</td>\n",
       "      <td>77.000000</td>\n",
       "      <td>77.000000</td>\n",
       "      <td>77.000000</td>\n",
       "      <td>77.000000</td>\n",
       "      <td>77.000000</td>\n",
       "      <td>77.000000</td>\n",
       "      <td>77.000000</td>\n",
       "      <td>77.000000</td>\n",
       "      <td>77.000000</td>\n",
       "    </tr>\n",
       "    <tr>\n",
       "      <th>mean</th>\n",
       "      <td>106.883117</td>\n",
       "      <td>2.545455</td>\n",
       "      <td>1.012987</td>\n",
       "      <td>159.675325</td>\n",
       "      <td>2.151948</td>\n",
       "      <td>14.597403</td>\n",
       "      <td>6.922078</td>\n",
       "      <td>96.077922</td>\n",
       "      <td>28.246753</td>\n",
       "      <td>2.207792</td>\n",
       "      <td>1.029610</td>\n",
       "      <td>0.821039</td>\n",
       "      <td>42.665705</td>\n",
       "    </tr>\n",
       "    <tr>\n",
       "      <th>std</th>\n",
       "      <td>19.484119</td>\n",
       "      <td>1.094790</td>\n",
       "      <td>1.006473</td>\n",
       "      <td>83.832295</td>\n",
       "      <td>2.383364</td>\n",
       "      <td>4.278956</td>\n",
       "      <td>4.444885</td>\n",
       "      <td>71.286813</td>\n",
       "      <td>22.342523</td>\n",
       "      <td>0.832524</td>\n",
       "      <td>0.150477</td>\n",
       "      <td>0.232716</td>\n",
       "      <td>14.047289</td>\n",
       "    </tr>\n",
       "    <tr>\n",
       "      <th>min</th>\n",
       "      <td>50.000000</td>\n",
       "      <td>1.000000</td>\n",
       "      <td>0.000000</td>\n",
       "      <td>0.000000</td>\n",
       "      <td>0.000000</td>\n",
       "      <td>-1.000000</td>\n",
       "      <td>-1.000000</td>\n",
       "      <td>-1.000000</td>\n",
       "      <td>0.000000</td>\n",
       "      <td>1.000000</td>\n",
       "      <td>0.500000</td>\n",
       "      <td>0.250000</td>\n",
       "      <td>18.042851</td>\n",
       "    </tr>\n",
       "    <tr>\n",
       "      <th>25%</th>\n",
       "      <td>100.000000</td>\n",
       "      <td>2.000000</td>\n",
       "      <td>0.000000</td>\n",
       "      <td>130.000000</td>\n",
       "      <td>1.000000</td>\n",
       "      <td>12.000000</td>\n",
       "      <td>3.000000</td>\n",
       "      <td>40.000000</td>\n",
       "      <td>25.000000</td>\n",
       "      <td>1.000000</td>\n",
       "      <td>1.000000</td>\n",
       "      <td>0.670000</td>\n",
       "      <td>33.174094</td>\n",
       "    </tr>\n",
       "    <tr>\n",
       "      <th>50%</th>\n",
       "      <td>110.000000</td>\n",
       "      <td>3.000000</td>\n",
       "      <td>1.000000</td>\n",
       "      <td>180.000000</td>\n",
       "      <td>2.000000</td>\n",
       "      <td>14.000000</td>\n",
       "      <td>7.000000</td>\n",
       "      <td>90.000000</td>\n",
       "      <td>25.000000</td>\n",
       "      <td>2.000000</td>\n",
       "      <td>1.000000</td>\n",
       "      <td>0.750000</td>\n",
       "      <td>40.400208</td>\n",
       "    </tr>\n",
       "    <tr>\n",
       "      <th>75%</th>\n",
       "      <td>110.000000</td>\n",
       "      <td>3.000000</td>\n",
       "      <td>2.000000</td>\n",
       "      <td>210.000000</td>\n",
       "      <td>3.000000</td>\n",
       "      <td>17.000000</td>\n",
       "      <td>11.000000</td>\n",
       "      <td>120.000000</td>\n",
       "      <td>25.000000</td>\n",
       "      <td>3.000000</td>\n",
       "      <td>1.000000</td>\n",
       "      <td>1.000000</td>\n",
       "      <td>50.828392</td>\n",
       "    </tr>\n",
       "    <tr>\n",
       "      <th>max</th>\n",
       "      <td>160.000000</td>\n",
       "      <td>6.000000</td>\n",
       "      <td>5.000000</td>\n",
       "      <td>320.000000</td>\n",
       "      <td>14.000000</td>\n",
       "      <td>23.000000</td>\n",
       "      <td>15.000000</td>\n",
       "      <td>330.000000</td>\n",
       "      <td>100.000000</td>\n",
       "      <td>3.000000</td>\n",
       "      <td>1.500000</td>\n",
       "      <td>1.500000</td>\n",
       "      <td>93.704912</td>\n",
       "    </tr>\n",
       "  </tbody>\n",
       "</table>\n",
       "</div>"
      ],
      "text/plain": [
       "         calories    protein        fat      sodium      fiber      carbo  \\\n",
       "count   77.000000  77.000000  77.000000   77.000000  77.000000  77.000000   \n",
       "mean   106.883117   2.545455   1.012987  159.675325   2.151948  14.597403   \n",
       "std     19.484119   1.094790   1.006473   83.832295   2.383364   4.278956   \n",
       "min     50.000000   1.000000   0.000000    0.000000   0.000000  -1.000000   \n",
       "25%    100.000000   2.000000   0.000000  130.000000   1.000000  12.000000   \n",
       "50%    110.000000   3.000000   1.000000  180.000000   2.000000  14.000000   \n",
       "75%    110.000000   3.000000   2.000000  210.000000   3.000000  17.000000   \n",
       "max    160.000000   6.000000   5.000000  320.000000  14.000000  23.000000   \n",
       "\n",
       "          sugars      potass    vitamins      shelf     weight       cups  \\\n",
       "count  77.000000   77.000000   77.000000  77.000000  77.000000  77.000000   \n",
       "mean    6.922078   96.077922   28.246753   2.207792   1.029610   0.821039   \n",
       "std     4.444885   71.286813   22.342523   0.832524   0.150477   0.232716   \n",
       "min    -1.000000   -1.000000    0.000000   1.000000   0.500000   0.250000   \n",
       "25%     3.000000   40.000000   25.000000   1.000000   1.000000   0.670000   \n",
       "50%     7.000000   90.000000   25.000000   2.000000   1.000000   0.750000   \n",
       "75%    11.000000  120.000000   25.000000   3.000000   1.000000   1.000000   \n",
       "max    15.000000  330.000000  100.000000   3.000000   1.500000   1.500000   \n",
       "\n",
       "          rating  \n",
       "count  77.000000  \n",
       "mean   42.665705  \n",
       "std    14.047289  \n",
       "min    18.042851  \n",
       "25%    33.174094  \n",
       "50%    40.400208  \n",
       "75%    50.828392  \n",
       "max    93.704912  "
      ]
     },
     "execution_count": 14,
     "metadata": {},
     "output_type": "execute_result"
    }
   ],
   "source": [
    "# Showing the Five number Summry.\n",
    "df.describe()"
   ]
  },
  {
   "cell_type": "code",
   "execution_count": 15,
   "id": "d0212ddc",
   "metadata": {},
   "outputs": [],
   "source": [
    "Protein=df[\"protein\"]\n",
    "Sugar=df[\"sugars\"]\n",
    "Carbo=df[\"carbo\"]\n",
    "Fat=df[\"fat\"]\n",
    "\n",
    "data_b=[Protein,Sugar,Carbo,Fat]"
   ]
  },
  {
   "cell_type": "code",
   "execution_count": 16,
   "id": "56f691b1",
   "metadata": {},
   "outputs": [
    {
     "data": {
      "image/png": "[encoded data removed]",
      "text/plain": [
       "<Figure size 720x576 with 1 Axes>"
      ]
     },
     "metadata": {
      "needs_background": "light"
     },
     "output_type": "display_data"
    }
   ],
   "source": [
    "# Drawing the Boxplot for the features - Protein,Sugar,Carbo,Fat.\n",
    "plt.figure(figsize=(10,8))\n",
    "plt.boxplot(data_b, labels=['Protein','Sugar','Carbo','Fat'])\n",
    "plt.title(\"***** Boxplots for the features - Protein, Sugar, Carbo, Fat *****\")\n",
    "plt.show()"
   ]
  },
  {
   "cell_type": "markdown",
   "id": "a318e4b5",
   "metadata": {},
   "source": [
    "<hr>\n"
   ]
  },
  {
   "cell_type": "code",
   "execution_count": 17,
   "id": "d8712e88",
   "metadata": {},
   "outputs": [],
   "source": [
    "# assigning the variable in single list to draw the plot.\n",
    "a=df[\"protein\"]\n",
    "b=df[\"carbo\"]\n",
    "c=df[\"sodium\"]\n",
    "d=df[\"fiber\"]\n",
    "data_b=[a,b,c,d]"
   ]
  },
  {
   "cell_type": "code",
   "execution_count": 18,
   "id": "b486883a",
   "metadata": {},
   "outputs": [
    {
     "data": {
      "image/png": "[encoded data removed]",
      "text/plain": [
       "<Figure size 720x576 with 1 Axes>"
      ]
     },
     "metadata": {
      "needs_background": "light"
     },
     "output_type": "display_data"
    }
   ],
   "source": [
    "# Plotting Histograms for the features - fat, carbo, sodium, fiber.\n",
    "plt.figure(figsize=(10,8))\n",
    "sns.histplot(data = data_b, bins=4)\n",
    "plt.title(\"Histograms for the features - fat, carbo, sodium, fiber\")\n",
    "plt.show()"
   ]
  },
  {
   "cell_type": "code",
   "execution_count": 19,
   "id": "ae5b4bc0",
   "metadata": {},
   "outputs": [
    {
     "data": {
      "image/png": "[encoded data removed]",
      "text/plain": [
       "<Figure size 864x720 with 4 Axes>"
      ]
     },
     "metadata": {
      "needs_background": "light"
     },
     "output_type": "display_data"
    }
   ],
   "source": [
    "# Plotting Histograms for the features - fat, carbo, sodium, fiber using Matplotlib.\n",
    "\n",
    "plt.figure(figsize=(12,10))\n",
    "\n",
    "plt.subplot(2, 2, 1)\n",
    "plt.hist(df['fat'],bins=4,rwidth=0.95)\n",
    "plt.title(\"Fat\")\n",
    "\n",
    "plt.subplot(2, 2, 2)\n",
    "plt.hist(df['carbo'],bins=4,rwidth=0.95)\n",
    "plt.title(\"Carbo\")\n",
    "\n",
    "plt.subplot(2, 2, 3)\n",
    "plt.hist(df['sodium'],bins=4,rwidth=0.95)\n",
    "plt.title(\"Sodium\")\n",
    "\n",
    "plt.subplot(2, 2, 4)\n",
    "plt.hist(df['fiber'],bins=4,rwidth=0.95)\n",
    "plt.title(\"Fiber\")\n",
    "\n",
    "plt.show()"
   ]
  },
  {
   "cell_type": "markdown",
   "id": "2452cf9f",
   "metadata": {},
   "source": [
    "<hr>"
   ]
  },
  {
   "cell_type": "code",
   "execution_count": 20,
   "id": "992e94c5",
   "metadata": {},
   "outputs": [
    {
     "data": {
      "text/html": [
       "<div>\n",
       "<style scoped>\n",
       "    .dataframe tbody tr th:only-of-type {\n",
       "        vertical-align: middle;\n",
       "    }\n",
       "\n",
       "    .dataframe tbody tr th {\n",
       "        vertical-align: top;\n",
       "    }\n",
       "\n",
       "    .dataframe thead th {\n",
       "        text-align: right;\n",
       "    }\n",
       "</style>\n",
       "<table border=\"1\" class=\"dataframe\">\n",
       "  <thead>\n",
       "    <tr style=\"text-align: right;\">\n",
       "      <th></th>\n",
       "      <th>name</th>\n",
       "      <th>mfr</th>\n",
       "      <th>type</th>\n",
       "      <th>calories</th>\n",
       "      <th>protein</th>\n",
       "      <th>fat</th>\n",
       "      <th>sodium</th>\n",
       "      <th>fiber</th>\n",
       "      <th>carbo</th>\n",
       "      <th>sugars</th>\n",
       "      <th>potass</th>\n",
       "      <th>vitamins</th>\n",
       "      <th>shelf</th>\n",
       "      <th>weight</th>\n",
       "      <th>cups</th>\n",
       "      <th>rating</th>\n",
       "    </tr>\n",
       "  </thead>\n",
       "  <tbody>\n",
       "    <tr>\n",
       "      <th>0</th>\n",
       "      <td>100% Bran</td>\n",
       "      <td>Othder Brands</td>\n",
       "      <td>Type 1</td>\n",
       "      <td>70</td>\n",
       "      <td>4</td>\n",
       "      <td>1</td>\n",
       "      <td>130</td>\n",
       "      <td>10.0</td>\n",
       "      <td>5.0</td>\n",
       "      <td>6</td>\n",
       "      <td>280</td>\n",
       "      <td>25</td>\n",
       "      <td>3</td>\n",
       "      <td>1.0</td>\n",
       "      <td>0.33</td>\n",
       "      <td>68.402973</td>\n",
       "    </tr>\n",
       "    <tr>\n",
       "      <th>1</th>\n",
       "      <td>100% Natural Bran</td>\n",
       "      <td>Othder Brands</td>\n",
       "      <td>Type 1</td>\n",
       "      <td>120</td>\n",
       "      <td>3</td>\n",
       "      <td>5</td>\n",
       "      <td>15</td>\n",
       "      <td>2.0</td>\n",
       "      <td>8.0</td>\n",
       "      <td>8</td>\n",
       "      <td>135</td>\n",
       "      <td>0</td>\n",
       "      <td>3</td>\n",
       "      <td>1.0</td>\n",
       "      <td>1.00</td>\n",
       "      <td>33.983679</td>\n",
       "    </tr>\n",
       "  </tbody>\n",
       "</table>\n",
       "</div>"
      ],
      "text/plain": [
       "                name            mfr    type  calories  protein  fat  sodium  \\\n",
       "0          100% Bran  Othder Brands  Type 1        70        4    1     130   \n",
       "1  100% Natural Bran  Othder Brands  Type 1       120        3    5      15   \n",
       "\n",
       "   fiber  carbo  sugars  potass  vitamins  shelf  weight  cups     rating  \n",
       "0   10.0    5.0       6     280        25      3     1.0  0.33  68.402973  \n",
       "1    2.0    8.0       8     135         0      3     1.0  1.00  33.983679  "
      ]
     },
     "execution_count": 20,
     "metadata": {},
     "output_type": "execute_result"
    }
   ],
   "source": [
    "df.head(2) "
   ]
  },
  {
   "cell_type": "code",
   "execution_count": 21,
   "id": "db0f8ae4",
   "metadata": {},
   "outputs": [],
   "source": [
    "#Defining the \"rating as target variable and others as independent variable.\"\n",
    "y=df[\"rating\"]\n",
    "X=df.drop([\"rating\"],axis=1)"
   ]
  },
  {
   "cell_type": "code",
   "execution_count": 22,
   "id": "9a4febd2",
   "metadata": {},
   "outputs": [],
   "source": [
    "# Importing the librarie.\n",
    "from sklearn.model_selection import train_test_split"
   ]
  },
  {
   "cell_type": "code",
   "execution_count": 23,
   "id": "c78db49e",
   "metadata": {},
   "outputs": [],
   "source": [
    "#Splitting in 60:40 ratio.\n",
    "X_train, X_test, y_train, y_test = train_test_split(X, y, test_size = 0.4, random_state = 123)"
   ]
  },
  {
   "cell_type": "code",
   "execution_count": 24,
   "id": "aac2bd89",
   "metadata": {},
   "outputs": [],
   "source": [
    "#Splitting in 70:30 ratio.\n",
    "X_train, X_test, y_train, y_test = train_test_split(X, y, test_size = 0.3, random_state = 123)"
   ]
  },
  {
   "cell_type": "code",
   "execution_count": 25,
   "id": "f07b2e56",
   "metadata": {},
   "outputs": [],
   "source": [
    "#Splitting in 80:20 ratio.\n",
    "X_train, X_test, y_train, y_test = train_test_split(X, y, test_size = 0.2)"
   ]
  },
  {
   "cell_type": "markdown",
   "id": "1dd80020",
   "metadata": {},
   "source": [
    "#### Random State\n",
    "- Random state ensures that the splits that you generate are reproducible. Scikit-learn uses random permutations to generate the splits. \n",
    "- The random state that you provide is used as a seed to the random number generator. This ensures that the random numbers are generated in the same order.\n",
    "- When the Random_state is not defined in the code for every run train data will change and accuracy might change for every run. - When the Random_state = \"any constant integer\" is defined then train data will be constant For every run so that it will make easy to debug."
   ]
  },
  {
   "cell_type": "markdown",
   "id": "d3bd1647",
   "metadata": {},
   "source": [
    "<hr>"
   ]
  },
  {
   "cell_type": "code",
   "execution_count": 26,
   "id": "cb4db2ba",
   "metadata": {},
   "outputs": [],
   "source": [
    "# making copy of data set so we can compare the each scalers easly.\n",
    "df2=df.copy()\n",
    "df3=df.copy()"
   ]
  },
  {
   "cell_type": "markdown",
   "id": "e1b2d1c4",
   "metadata": {},
   "source": [
    "#### MinMaxScaler() and StandardScaler() \n",
    "`In this method, we convert variables with different scales of measurements into a single scale. `\n",
    "- **StandardScaler** normalizes the data using the formula (x-mean)/standard deviation.\n",
    "- **MinMaxScaler** normalizes the data using the formula (x - min)/(max - min)."
   ]
  },
  {
   "cell_type": "code",
   "execution_count": 27,
   "id": "1bd259a0",
   "metadata": {},
   "outputs": [
    {
     "data": {
      "text/plain": [
       "MinMaxScaler()"
      ]
     },
     "execution_count": 27,
     "metadata": {},
     "output_type": "execute_result"
    }
   ],
   "source": [
    "# importing the MinMaxScaler.\n",
    "from sklearn.preprocessing import MinMaxScaler\n",
    "minmax_scale = MinMaxScaler()\n",
    "minmax_scale"
   ]
  },
  {
   "cell_type": "code",
   "execution_count": 28,
   "id": "b7f7867c",
   "metadata": {},
   "outputs": [
    {
     "data": {
      "text/plain": [
       "StandardScaler()"
      ]
     },
     "execution_count": 28,
     "metadata": {},
     "output_type": "execute_result"
    }
   ],
   "source": [
    "# importing the StandardScaler.\n",
    "from sklearn.preprocessing import StandardScaler\n",
    "std_scale = StandardScaler()\n",
    "std_scale"
   ]
  },
  {
   "cell_type": "code",
   "execution_count": 29,
   "id": "ce3eb9d0",
   "metadata": {},
   "outputs": [],
   "source": [
    "# transforming data using MinMaxScaler().\n",
    "df2['calories'] = minmax_scale.fit_transform(df2[[\"calories\"]])\n",
    "df2['protein'] = minmax_scale.fit_transform(df2[[\"protein\"]])\n",
    "df2['fat'] = minmax_scale.fit_transform(df2[[\"fat\"]])\n",
    "df2['sodium'] = minmax_scale.fit_transform(df2[[\"sodium\"]])\n",
    "df2['fiber'] = minmax_scale.fit_transform(df2[[\"fiber\"]])\n",
    "df2['carbo'] = minmax_scale.fit_transform(df2[[\"carbo\"]])\n",
    "df2['sugars'] = minmax_scale.fit_transform(df2[[\"sugars\"]])"
   ]
  },
  {
   "cell_type": "code",
   "execution_count": 30,
   "id": "a41e6369",
   "metadata": {},
   "outputs": [
    {
     "data": {
      "text/html": [
       "<div>\n",
       "<style scoped>\n",
       "    .dataframe tbody tr th:only-of-type {\n",
       "        vertical-align: middle;\n",
       "    }\n",
       "\n",
       "    .dataframe tbody tr th {\n",
       "        vertical-align: top;\n",
       "    }\n",
       "\n",
       "    .dataframe thead th {\n",
       "        text-align: right;\n",
       "    }\n",
       "</style>\n",
       "<table border=\"1\" class=\"dataframe\">\n",
       "  <thead>\n",
       "    <tr style=\"text-align: right;\">\n",
       "      <th></th>\n",
       "      <th>name</th>\n",
       "      <th>mfr</th>\n",
       "      <th>type</th>\n",
       "      <th>calories</th>\n",
       "      <th>protein</th>\n",
       "      <th>fat</th>\n",
       "      <th>sodium</th>\n",
       "      <th>fiber</th>\n",
       "      <th>carbo</th>\n",
       "      <th>sugars</th>\n",
       "      <th>potass</th>\n",
       "      <th>vitamins</th>\n",
       "      <th>shelf</th>\n",
       "      <th>weight</th>\n",
       "      <th>cups</th>\n",
       "      <th>rating</th>\n",
       "    </tr>\n",
       "  </thead>\n",
       "  <tbody>\n",
       "    <tr>\n",
       "      <th>0</th>\n",
       "      <td>100% Bran</td>\n",
       "      <td>Othder Brands</td>\n",
       "      <td>Type 1</td>\n",
       "      <td>0.181818</td>\n",
       "      <td>0.6</td>\n",
       "      <td>0.2</td>\n",
       "      <td>0.406250</td>\n",
       "      <td>0.714286</td>\n",
       "      <td>0.250000</td>\n",
       "      <td>0.4375</td>\n",
       "      <td>280</td>\n",
       "      <td>25</td>\n",
       "      <td>3</td>\n",
       "      <td>1.0</td>\n",
       "      <td>0.33</td>\n",
       "      <td>68.402973</td>\n",
       "    </tr>\n",
       "    <tr>\n",
       "      <th>1</th>\n",
       "      <td>100% Natural Bran</td>\n",
       "      <td>Othder Brands</td>\n",
       "      <td>Type 1</td>\n",
       "      <td>0.636364</td>\n",
       "      <td>0.4</td>\n",
       "      <td>1.0</td>\n",
       "      <td>0.046875</td>\n",
       "      <td>0.142857</td>\n",
       "      <td>0.375000</td>\n",
       "      <td>0.5625</td>\n",
       "      <td>135</td>\n",
       "      <td>0</td>\n",
       "      <td>3</td>\n",
       "      <td>1.0</td>\n",
       "      <td>1.00</td>\n",
       "      <td>33.983679</td>\n",
       "    </tr>\n",
       "    <tr>\n",
       "      <th>2</th>\n",
       "      <td>All-Bran</td>\n",
       "      <td>Kellogg's</td>\n",
       "      <td>Type 1</td>\n",
       "      <td>0.181818</td>\n",
       "      <td>0.6</td>\n",
       "      <td>0.2</td>\n",
       "      <td>0.812500</td>\n",
       "      <td>0.642857</td>\n",
       "      <td>0.333333</td>\n",
       "      <td>0.3750</td>\n",
       "      <td>320</td>\n",
       "      <td>25</td>\n",
       "      <td>3</td>\n",
       "      <td>1.0</td>\n",
       "      <td>0.33</td>\n",
       "      <td>59.425505</td>\n",
       "    </tr>\n",
       "  </tbody>\n",
       "</table>\n",
       "</div>"
      ],
      "text/plain": [
       "                name            mfr    type  calories  protein  fat    sodium  \\\n",
       "0          100% Bran  Othder Brands  Type 1  0.181818      0.6  0.2  0.406250   \n",
       "1  100% Natural Bran  Othder Brands  Type 1  0.636364      0.4  1.0  0.046875   \n",
       "2           All-Bran      Kellogg's  Type 1  0.181818      0.6  0.2  0.812500   \n",
       "\n",
       "      fiber     carbo  sugars  potass  vitamins  shelf  weight  cups  \\\n",
       "0  0.714286  0.250000  0.4375     280        25      3     1.0  0.33   \n",
       "1  0.142857  0.375000  0.5625     135         0      3     1.0  1.00   \n",
       "2  0.642857  0.333333  0.3750     320        25      3     1.0  0.33   \n",
       "\n",
       "      rating  \n",
       "0  68.402973  \n",
       "1  33.983679  \n",
       "2  59.425505  "
      ]
     },
     "execution_count": 30,
     "metadata": {},
     "output_type": "execute_result"
    }
   ],
   "source": [
    "df2.head(3)"
   ]
  },
  {
   "cell_type": "code",
   "execution_count": 31,
   "id": "d4d8bcf8",
   "metadata": {},
   "outputs": [],
   "source": [
    "# # transforming data using StanderdScaler().\n",
    "df3['calories'] = std_scale.fit_transform(df3[['calories']])\n",
    "df3['protein'] = std_scale.fit_transform(df3[[\"protein\"]])\n",
    "df3['fat'] = std_scale.fit_transform(df3[[\"fat\"]])\n",
    "df3['sodium'] = std_scale.fit_transform(df3[[\"sodium\"]])\n",
    "df3['fiber'] = std_scale.fit_transform(df3[[\"fiber\"]])\n",
    "df3['carbo'] = std_scale.fit_transform(df3[[\"carbo\"]])\n",
    "df3['sugars'] = std_scale.fit_transform(df3[[\"sugars\"]])"
   ]
  },
  {
   "cell_type": "code",
   "execution_count": 32,
   "id": "a9489baf",
   "metadata": {},
   "outputs": [
    {
     "data": {
      "text/html": [
       "<div>\n",
       "<style scoped>\n",
       "    .dataframe tbody tr th:only-of-type {\n",
       "        vertical-align: middle;\n",
       "    }\n",
       "\n",
       "    .dataframe tbody tr th {\n",
       "        vertical-align: top;\n",
       "    }\n",
       "\n",
       "    .dataframe thead th {\n",
       "        text-align: right;\n",
       "    }\n",
       "</style>\n",
       "<table border=\"1\" class=\"dataframe\">\n",
       "  <thead>\n",
       "    <tr style=\"text-align: right;\">\n",
       "      <th></th>\n",
       "      <th>name</th>\n",
       "      <th>mfr</th>\n",
       "      <th>type</th>\n",
       "      <th>calories</th>\n",
       "      <th>protein</th>\n",
       "      <th>fat</th>\n",
       "      <th>sodium</th>\n",
       "      <th>fiber</th>\n",
       "      <th>carbo</th>\n",
       "      <th>sugars</th>\n",
       "      <th>potass</th>\n",
       "      <th>vitamins</th>\n",
       "      <th>shelf</th>\n",
       "      <th>weight</th>\n",
       "      <th>cups</th>\n",
       "      <th>rating</th>\n",
       "    </tr>\n",
       "  </thead>\n",
       "  <tbody>\n",
       "    <tr>\n",
       "      <th>0</th>\n",
       "      <td>100% Bran</td>\n",
       "      <td>Othder Brands</td>\n",
       "      <td>Type 1</td>\n",
       "      <td>-1.905397</td>\n",
       "      <td>1.337319</td>\n",
       "      <td>-0.012988</td>\n",
       "      <td>-0.356306</td>\n",
       "      <td>3.314439</td>\n",
       "      <td>-2.257639</td>\n",
       "      <td>-0.208807</td>\n",
       "      <td>280</td>\n",
       "      <td>25</td>\n",
       "      <td>3</td>\n",
       "      <td>1.0</td>\n",
       "      <td>0.33</td>\n",
       "      <td>68.402973</td>\n",
       "    </tr>\n",
       "    <tr>\n",
       "      <th>1</th>\n",
       "      <td>100% Natural Bran</td>\n",
       "      <td>Othder Brands</td>\n",
       "      <td>Type 1</td>\n",
       "      <td>0.677623</td>\n",
       "      <td>0.417912</td>\n",
       "      <td>3.987349</td>\n",
       "      <td>-1.737087</td>\n",
       "      <td>-0.064172</td>\n",
       "      <td>-1.551936</td>\n",
       "      <td>0.244099</td>\n",
       "      <td>135</td>\n",
       "      <td>0</td>\n",
       "      <td>3</td>\n",
       "      <td>1.0</td>\n",
       "      <td>1.00</td>\n",
       "      <td>33.983679</td>\n",
       "    </tr>\n",
       "    <tr>\n",
       "      <th>2</th>\n",
       "      <td>All-Bran</td>\n",
       "      <td>Kellogg's</td>\n",
       "      <td>Type 1</td>\n",
       "      <td>-1.905397</td>\n",
       "      <td>1.337319</td>\n",
       "      <td>-0.012988</td>\n",
       "      <td>1.204578</td>\n",
       "      <td>2.892113</td>\n",
       "      <td>-1.787170</td>\n",
       "      <td>-0.435260</td>\n",
       "      <td>320</td>\n",
       "      <td>25</td>\n",
       "      <td>3</td>\n",
       "      <td>1.0</td>\n",
       "      <td>0.33</td>\n",
       "      <td>59.425505</td>\n",
       "    </tr>\n",
       "  </tbody>\n",
       "</table>\n",
       "</div>"
      ],
      "text/plain": [
       "                name            mfr    type  calories   protein       fat  \\\n",
       "0          100% Bran  Othder Brands  Type 1 -1.905397  1.337319 -0.012988   \n",
       "1  100% Natural Bran  Othder Brands  Type 1  0.677623  0.417912  3.987349   \n",
       "2           All-Bran      Kellogg's  Type 1 -1.905397  1.337319 -0.012988   \n",
       "\n",
       "     sodium     fiber     carbo    sugars  potass  vitamins  shelf  weight  \\\n",
       "0 -0.356306  3.314439 -2.257639 -0.208807     280        25      3     1.0   \n",
       "1 -1.737087 -0.064172 -1.551936  0.244099     135         0      3     1.0   \n",
       "2  1.204578  2.892113 -1.787170 -0.435260     320        25      3     1.0   \n",
       "\n",
       "   cups     rating  \n",
       "0  0.33  68.402973  \n",
       "1  1.00  33.983679  \n",
       "2  0.33  59.425505  "
      ]
     },
     "execution_count": 32,
     "metadata": {},
     "output_type": "execute_result"
    }
   ],
   "source": [
    "df3.head(3)"
   ]
  },
  {
   "cell_type": "markdown",
   "id": "a00a18af",
   "metadata": {},
   "source": [
    "<hr>"
   ]
  },
  {
   "cell_type": "code",
   "execution_count": 33,
   "id": "7e71bd25",
   "metadata": {},
   "outputs": [
    {
     "data": {
      "image/png": "[encoded data removed]",
      "text/plain": [
       "<Figure size 1080x1800 with 21 Axes>"
      ]
     },
     "metadata": {
      "needs_background": "light"
     },
     "output_type": "display_data"
    }
   ],
   "source": [
    "# Plotting boxplots of given variables(calories, protien, fat, sodium, fiber, carbo, sugars) to compare the both normalizations.\n",
    "plt.figure(figsize=(15,25))\n",
    "\n",
    "plt.subplot(7, 3, 1)\n",
    "sns.boxplot(df['calories'])\n",
    "plt.title(\"*** Boxplot of nornal given data  ***\")\n",
    "plt.subplot(7, 3, 2)\n",
    "sns.boxplot(df2['calories'])\n",
    "plt.title(\"*** Boxplot after applying MinMaxScaler ***\")  \n",
    "plt.subplot(7, 3, 3)\n",
    "sns.boxplot(df3['calories'])\n",
    "plt.title(\"*** Boxplot after applying StanderdScaler ***\")             \n",
    "                                    \n",
    "plt.subplot(7, 3, 4)\n",
    "sns.boxplot(df['protein'])\n",
    "plt.subplot(7, 3, 5)\n",
    "sns.boxplot(df2['protein'])\n",
    "plt.subplot(7, 3, 6)\n",
    "sns.boxplot(df3['protein'])\n",
    "\n",
    "plt.subplot(7, 3, 7)\n",
    "sns.boxplot(df['fat'])\n",
    "plt.subplot(7, 3, 8)\n",
    "sns.boxplot(df2['fat'])\n",
    "plt.subplot(7, 3, 9)\n",
    "sns.boxplot(df3['fat'])\n",
    "\n",
    "\n",
    "plt.subplot(7, 3, 10)\n",
    "sns.boxplot(df['sodium'])\n",
    "plt.subplot(7, 3, 11)\n",
    "sns.boxplot(df2['sodium'])\n",
    "plt.subplot(7, 3, 12)\n",
    "sns.boxplot(df3['sodium'])\n",
    "\n",
    "plt.subplot(7, 3, 13)\n",
    "sns.boxplot(df['fiber'])\n",
    "plt.subplot(7, 3, 14)\n",
    "sns.boxplot(df2['fiber'])\n",
    "plt.subplot(7, 3, 15)\n",
    "sns.boxplot(df3['fiber'])\n",
    "\n",
    "plt.subplot(7, 3, 16)\n",
    "sns.boxplot(df['carbo'])\n",
    "plt.subplot(7, 3, 17)\n",
    "sns.boxplot(df2['carbo'])\n",
    "plt.subplot(7, 3, 18)\n",
    "sns.boxplot(df3['carbo'])\n",
    "\n",
    "plt.subplot(7, 3, 19)\n",
    "sns.boxplot(df['sugars'])\n",
    "plt.subplot(7, 3, 20)\n",
    "sns.boxplot(df2['sugars'])\n",
    "plt.subplot(7, 3, 21)\n",
    "sns.boxplot(df3['sugars'])\n",
    "\n",
    "plt.show()"
   ]
  },
  {
   "cell_type": "markdown",
   "id": "18958e87",
   "metadata": {},
   "source": [
    "<hr>"
   ]
  },
  {
   "cell_type": "code",
   "execution_count": 34,
   "id": "1618fe5e",
   "metadata": {},
   "outputs": [],
   "source": [
    "#Assigning the variables for each splits.\n",
    "X_train1, X_test1, y_train1, y_test1 = train_test_split(X, y, test_size = 0.4, random_state = 123)\n",
    "X_train2, X_test2, y_train2, y_test2 = train_test_split(X, y, test_size = 0.3, random_state = 456)\n",
    "X_train3, X_test3, y_train3, y_test3 = train_test_split(X, y, test_size = 0.2)"
   ]
  },
  {
   "cell_type": "code",
   "execution_count": 35,
   "id": "576ead9c",
   "metadata": {},
   "outputs": [],
   "source": [
    "# Assigning the required data.\n",
    "k1=(X_train1[\"mfr\"]==\"Kellogg's\").value_counts()[1]\n",
    "n1=(X_train1[\"mfr\"]==\"Nastle\").value_counts()[1]\n",
    "o1=(X_train1[\"mfr\"]==\"Othder Brands\").value_counts()[1]\n",
    "\n",
    "k2=(X_train2[\"mfr\"]==\"Kellogg's\").value_counts()[1]\n",
    "n2=(X_train2[\"mfr\"]==\"Nastle\").value_counts()[1]\n",
    "o2=(X_train2[\"mfr\"]==\"Othder Brands\").value_counts()[1]\n",
    "\n",
    "k3=(X_train3[\"mfr\"]==\"Kellogg's\").value_counts()[1]\n",
    "n3=(X_train3[\"mfr\"]==\"Nastle\").value_counts()[1]\n",
    "o3=(X_train3[\"mfr\"]==\"Othder Brands\").value_counts()[1]"
   ]
  },
  {
   "cell_type": "code",
   "execution_count": 36,
   "id": "2b14961a",
   "metadata": {},
   "outputs": [],
   "source": [
    "# Generating the DataFrame.\n",
    "data = pd.DataFrame(columns = [\"Split Ratio\", \"Random State\", \"Total Number of Entries\",\"Count of Kellogg's\",\n",
    "                               \"Count of Nestle\",\"Count of Other Brands\"])"
   ]
  },
  {
   "cell_type": "code",
   "execution_count": 37,
   "id": "d345267d",
   "metadata": {},
   "outputs": [],
   "source": [
    "# Assigning the value for each splits and appending the values.\n",
    "\n",
    "data_1 = {\"Split Ratio\":\"60:40\", \n",
    "          \"Random State\":123, \n",
    "          \"Total Number of Entries\":(X_train1.shape[0]),\n",
    "          \"Count of Kellogg's\":k1,\n",
    "          \"Count of Nestle\":n1,\n",
    "          \"Count of Other Brands\":o1}\n",
    "data = data.append(data_1, ignore_index=True)\n",
    "\n",
    "data_2 = {\"Split Ratio\":\"70:20\", \n",
    "          \"Random State\":456, \n",
    "          \"Total Number of Entries\":(X_train2.shape[0]),\n",
    "          \"Count of Kellogg's\":k2,\n",
    "          \"Count of Nestle\":n2,\n",
    "          \"Count of Other Brands\":o2}\n",
    "data = data.append(data_2, ignore_index=True)\n",
    "\n",
    "data_3 = {\"Split Ratio\":\"80:20\",\n",
    "          \"Total Number of Entries\":(X_train3.shape[0]),\n",
    "          \"Count of Kellogg's\":k3,\n",
    "          \"Count of Nestle\":n3,\n",
    "          \"Count of Other Brands\":o3}\n",
    "data = data.append(data_3, ignore_index=True)"
   ]
  },
  {
   "cell_type": "code",
   "execution_count": 38,
   "id": "591b2aeb",
   "metadata": {},
   "outputs": [
    {
     "data": {
      "text/html": [
       "<div>\n",
       "<style scoped>\n",
       "    .dataframe tbody tr th:only-of-type {\n",
       "        vertical-align: middle;\n",
       "    }\n",
       "\n",
       "    .dataframe tbody tr th {\n",
       "        vertical-align: top;\n",
       "    }\n",
       "\n",
       "    .dataframe thead th {\n",
       "        text-align: right;\n",
       "    }\n",
       "</style>\n",
       "<table border=\"1\" class=\"dataframe\">\n",
       "  <thead>\n",
       "    <tr style=\"text-align: right;\">\n",
       "      <th></th>\n",
       "      <th>Split Ratio</th>\n",
       "      <th>Random State</th>\n",
       "      <th>Total Number of Entries</th>\n",
       "      <th>Count of Kellogg's</th>\n",
       "      <th>Count of Nestle</th>\n",
       "      <th>Count of Other Brands</th>\n",
       "    </tr>\n",
       "  </thead>\n",
       "  <tbody>\n",
       "    <tr>\n",
       "      <th>0</th>\n",
       "      <td>60:40</td>\n",
       "      <td>123</td>\n",
       "      <td>46</td>\n",
       "      <td>15</td>\n",
       "      <td>13</td>\n",
       "      <td>18</td>\n",
       "    </tr>\n",
       "    <tr>\n",
       "      <th>1</th>\n",
       "      <td>70:20</td>\n",
       "      <td>456</td>\n",
       "      <td>53</td>\n",
       "      <td>18</td>\n",
       "      <td>11</td>\n",
       "      <td>24</td>\n",
       "    </tr>\n",
       "    <tr>\n",
       "      <th>2</th>\n",
       "      <td>80:20</td>\n",
       "      <td>NaN</td>\n",
       "      <td>61</td>\n",
       "      <td>21</td>\n",
       "      <td>16</td>\n",
       "      <td>24</td>\n",
       "    </tr>\n",
       "  </tbody>\n",
       "</table>\n",
       "</div>"
      ],
      "text/plain": [
       "  Split Ratio Random State Total Number of Entries Count of Kellogg's  \\\n",
       "0       60:40          123                      46                 15   \n",
       "1       70:20          456                      53                 18   \n",
       "2       80:20          NaN                      61                 21   \n",
       "\n",
       "  Count of Nestle Count of Other Brands  \n",
       "0              13                    18  \n",
       "1              11                    24  \n",
       "2              16                    24  "
      ]
     },
     "execution_count": 38,
     "metadata": {},
     "output_type": "execute_result"
    }
   ],
   "source": [
    "# Final generated DataFrame.\n",
    "data"
   ]
  },
  {
   "cell_type": "markdown",
   "id": "3267548a",
   "metadata": {},
   "source": [
    "# References\n",
    "-  https://www.kite.com/python/answers/how-to-replace-column-values-in-a-pandas-dataframe-in-python\n",
    "-  https://www.geeksforgeeks.org/seaborn-barplot-method-in-python/\n",
    "-  https://www.javatpoint.com/pandas-dataframe-describe, https://www.geeksforgeeks.org/box-plot-in-python-using-matplotlib/, https://www.geeksforgeeks.org/box-plot-visualization-with-pandas-and-seaborn/\n",
    "-  https://www.geeksforgeeks.org/matplotlib-pyplot-hist-in-python, https://www.geeksforgeeks.org/how-to-make-histograms-with-density-plots-with-seaborn-histplot/\n",
    "-  https://machinelearningmastery.com/standardscaler-and-minmaxscaler-transforms-in-python/"
   ]
  },
  {
   "cell_type": "markdown",
   "id": "14a63b88",
   "metadata": {},
   "source": [
    "## Conclusion/Results\n",
    "This assignment given us the basic idea about the DataFrame, Visulization, ML/Analysis, libraries, datasets and various subparts of sklearn libraries, it's uses and different parameter matrices.\n",
    "*******************************************************************************************************************************\n"
   ]
  }
 ],
 "metadata": {
  "kernelspec": {
   "display_name": "Python 3 (ipykernel)",
   "language": "python",
   "name": "python3"
  },
  "language_info": {
   "codemirror_mode": {
    "name": "ipython",
    "version": 3
   },
   "file_extension": ".py",
   "mimetype": "text/x-python",
   "name": "python",
   "nbconvert_exporter": "python",
   "pygments_lexer": "ipython3",
   "version": "3.9.7"
  }
 },
 "nbformat": 4,
 "nbformat_minor": 5
}
