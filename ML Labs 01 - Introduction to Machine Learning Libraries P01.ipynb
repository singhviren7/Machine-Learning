{
 "cells": [
  {
   "cell_type": "markdown",
   "id": "3b92fb9d",
   "metadata": {},
   "source": [
    "<hr>\n",
    "\n",
    "\n",
    "# ML Lab 01 - Introduction to Machine Learning Libraries Part:01\n",
    "<hr/>\n",
    "\n",
    "By: **Virendra Singh** <br>\n",
    "Linkedin: https://www.linkedin.com/in/singhviren7/\n",
    "\n",
    "\n",
    "<hr/>"
   ]
  },
  {
   "cell_type": "markdown",
   "id": "3b828156",
   "metadata": {},
   "source": [
    "## Lab Overview  \n",
    "### Objectives\n",
    "\n",
    "- Execute some basic python code\n",
    "- Import the following libraries into Python:\n",
    "    - pandas\n",
    "    - numpy\n",
    "    - sklearn\n",
    "    - seaborn\n",
    "    - theano\n",
    "    - scipy\n",
    "- Import the following libraries into Python:\n",
    "    - pytorch \n",
    "    - keras\n",
    "    - tensorflow\n",
    "- Load the IRIS TOY Dataset from sklearn\n",
    "- Execute at least one line of code involving above-librarie.\n",
    "- Find out the various options in Jupyter Notebook Markdown Documentation."
   ]
  },
  {
   "cell_type": "markdown",
   "id": "dbd4ced9",
   "metadata": {},
   "source": [
    "### Problem Definition\n",
    "We have to execute some basic python codes for the normal exercise. We have to import the number of libraries which we will use in our further labs and in many projects. We have to show the basic use of these codes how the are going to be implemented. There are options in markdowm section we will explore those options and it's uses."
   ]
  },
  {
   "cell_type": "markdown",
   "id": "d1b07877",
   "metadata": {},
   "source": [
    "### Approach\n",
    "Execute the basic python codes for the normal exercise for that we have to make the objective and then create some basic programming. Libraries will be imported using basic python code like 'import seaborn as sns'. using any one of these libraries few codes will be run for practice. There are various markdown options in Jupyter notebook which provide us smooth python coding in jupyter note book."
   ]
  },
  {
   "cell_type": "markdown",
   "id": "b18a418c",
   "metadata": {},
   "source": [
    "### Sections\n",
    "For this lab, the sections are -\n",
    "1. Lab Overview\n",
    "1. Executing Basic Python Code\n",
    "1. Libraries\n",
    "    1. Installation \n",
    "    1. Numpy\n",
    "    1. Pandas\n",
    "    1. SKLearn\n",
    "    1. Tensorflow etc.\n",
    "1. Loading IRIS TOY dataset\n",
    "1. Markdown options\n",
    "1. Refrences\n",
    "1. Conclusion"
   ]
  },
  {
   "cell_type": "markdown",
   "id": "03b8b9b4",
   "metadata": {},
   "source": [
    "## Executing Basic Python Code"
   ]
  },
  {
   "cell_type": "markdown",
   "id": "46489c48",
   "metadata": {},
   "source": [
    "#### A Python Statement to input the name, storing it in a variable and print it."
   ]
  },
  {
   "cell_type": "code",
   "execution_count": 1,
   "id": "dca4d8ff",
   "metadata": {},
   "outputs": [
    {
     "name": "stdout",
     "output_type": "stream",
     "text": [
      "Enter your name: Charlie\n",
      "Name is: Charlie\n"
     ]
    }
   ],
   "source": [
    "name = input(\"Enter your name: \")\n",
    "print(\"Name is:\", name)"
   ]
  },
  {
   "cell_type": "markdown",
   "id": "e5c2193a",
   "metadata": {},
   "source": [
    "#### Creating a programm to find out while the pessangers are eligible or not to get working visa for Austrelia. We will take 4 major details through user input and then compair those details while they are are satisfied or not. After compairing the details further required action will be take ie. Visa will be graunted or not. User details required: Age,Salary, Maretial Status, Education Qualification. for getting visa approved age should be more than 30 years, Salary should be more than 300, should be married and educational Qualification required is PG.\n"
   ]
  },
  {
   "cell_type": "code",
   "execution_count": 2,
   "id": "86e3ab05",
   "metadata": {},
   "outputs": [
    {
     "name": "stdout",
     "output_type": "stream",
     "text": [
      "Enter age: 35\n",
      "Enter the salary(in $): 400\n",
      "Enter Material Status (Married/Unmarried: Married\n",
      "Enter Education (UG/PG): PG\n",
      " Verified, Welcome to Austrelia!\n"
     ]
    }
   ],
   "source": [
    "age=int(input(\"Enter age: \"))\n",
    "salary=int(input(\"Enter the salary(in $): \"))\n",
    "m_status=str(input(\"Enter Material Status (Married/Unmarried: \"))\n",
    "edu=str(input(\"Enter Education (UG/PG): \"))\n",
    "if age>=30 and m_status==\"Married\" and edu==\"PG\" and salary>=300:\n",
    " print(\" Verified, Welcome to Austrelia!\")\n",
    "elif age<30:\n",
    " print(\"Sorry, You are under age.\")\n",
    "elif m_status!=\"Married\":\n",
    " print(\"Sorry, You are not Married.\")\n",
    "elif edu!= \"PG\":\n",
    " print(\"Sorry, You are Under Educated.\")\n",
    "elif salary<300:\n",
    " print(\"Sorry, Go and do some work first then think about visa.\")"
   ]
  },
  {
   "cell_type": "markdown",
   "id": "30fcad20",
   "metadata": {},
   "source": [
    "#### Python program to print the list after removing even numbers from given list."
   ]
  },
  {
   "cell_type": "code",
   "execution_count": 3,
   "id": "f032e961",
   "metadata": {},
   "outputs": [
    {
     "name": "stdout",
     "output_type": "stream",
     "text": [
      "List after removing even number: [5, 7, 45, 43, 29, 29, 77, 19, 39]\n"
     ]
    }
   ],
   "source": [
    "l=[5,54,7,6,4,2,45,76,43,98,29,8,30,29,40,76,77,10,19,39,48,58,50] #Given list\n",
    "l1=[]\n",
    "for i in l:\n",
    "    if i%2!=0:\n",
    "        l1.append(i)\n",
    "print(\"List after removing even number:\",l1)"
   ]
  },
  {
   "cell_type": "markdown",
   "id": "ca5b8be1",
   "metadata": {},
   "source": [
    "## Libraries"
   ]
  },
  {
   "cell_type": "markdown",
   "id": "36cd627d",
   "metadata": {},
   "source": [
    "#### Importing the libraries in python."
   ]
  },
  {
   "cell_type": "code",
   "execution_count": 10,
   "id": "5c52e7d5",
   "metadata": {},
   "outputs": [],
   "source": [
    "import warnings\n",
    "warnings.filterwarnings('ignore')\n",
    "\n",
    "import pandas\n",
    "import numpy\n",
    "import sklearn\n",
    "import seaborn\n",
    "import theano\n",
    "import scipy\n",
    "import keras\n",
    "import tensorflow"
   ]
  },
  {
   "cell_type": "markdown",
   "id": "6994ac54",
   "metadata": {},
   "source": [
    "#### Loading the IRIS TOY Dataset from sklearn"
   ]
  },
  {
   "cell_type": "code",
   "execution_count": 5,
   "id": "b9c61409",
   "metadata": {},
   "outputs": [],
   "source": [
    "import sklearn \n",
    "from sklearn import datasets\n",
    "iris=datasets.load_iris()"
   ]
  },
  {
   "cell_type": "code",
   "execution_count": 6,
   "id": "157e4f3d",
   "metadata": {},
   "outputs": [
    {
     "data": {
      "text/plain": [
       "['sepal length (cm)',\n",
       " 'sepal width (cm)',\n",
       " 'petal length (cm)',\n",
       " 'petal width (cm)']"
      ]
     },
     "execution_count": 6,
     "metadata": {},
     "output_type": "execute_result"
    }
   ],
   "source": [
    "iris.feature_names"
   ]
  },
  {
   "cell_type": "code",
   "execution_count": 7,
   "id": "8aced1bd",
   "metadata": {},
   "outputs": [
    {
     "data": {
      "text/plain": [
       "array([0, 0, 0, 0, 0, 0, 0, 0, 0, 0, 0, 0, 0, 0, 0, 0, 0, 0, 0, 0, 0, 0,\n",
       "       0, 0, 0, 0, 0, 0, 0, 0, 0, 0, 0, 0, 0, 0, 0, 0, 0, 0, 0, 0, 0, 0,\n",
       "       0, 0, 0, 0, 0, 0, 1, 1, 1, 1, 1, 1, 1, 1, 1, 1, 1, 1, 1, 1, 1, 1,\n",
       "       1, 1, 1, 1, 1, 1, 1, 1, 1, 1, 1, 1, 1, 1, 1, 1, 1, 1, 1, 1, 1, 1,\n",
       "       1, 1, 1, 1, 1, 1, 1, 1, 1, 1, 1, 1, 2, 2, 2, 2, 2, 2, 2, 2, 2, 2,\n",
       "       2, 2, 2, 2, 2, 2, 2, 2, 2, 2, 2, 2, 2, 2, 2, 2, 2, 2, 2, 2, 2, 2,\n",
       "       2, 2, 2, 2, 2, 2, 2, 2, 2, 2, 2, 2, 2, 2, 2, 2, 2, 2])"
      ]
     },
     "execution_count": 7,
     "metadata": {},
     "output_type": "execute_result"
    }
   ],
   "source": [
    "iris.target"
   ]
  },
  {
   "cell_type": "code",
   "execution_count": 8,
   "id": "ed62b172",
   "metadata": {},
   "outputs": [
    {
     "name": "stdout",
     "output_type": "stream",
     "text": [
      ".. _iris_dataset:\n",
      "\n",
      "Iris plants dataset\n",
      "--------------------\n",
      "\n",
      "**Data Set Characteristics:**\n",
      "\n",
      "    :Number of Instances: 150 (50 in each of three classes)\n",
      "    :Number of Attributes: 4 numeric, predictive attributes and the class\n",
      "    :Attribute Information:\n",
      "        - sepal length in cm\n",
      "        - sepal width in cm\n",
      "        - petal length in cm\n",
      "        - petal width in cm\n",
      "        - class:\n",
      "                - Iris-Setosa\n",
      "                - Iris-Versicolour\n",
      "                - Iris-Virginica\n",
      "                \n",
      "    :Summary Statistics:\n",
      "\n",
      "    ============== ==== ==== ======= ===== ====================\n",
      "                    Min  Max   Mean    SD   Class Correlation\n",
      "    ============== ==== ==== ======= ===== ====================\n",
      "    sepal length:   4.3  7.9   5.84   0.83    0.7826\n",
      "    sepal width:    2.0  4.4   3.05   0.43   -0.4194\n",
      "    petal length:   1.0  6.9   3.76   1.76    0.9490  (high!)\n",
      "    petal width:    0.1  2.5   1.20   0.76    0.9565  (high!)\n",
      "    ============== ==== ==== ======= ===== ====================\n",
      "\n",
      "    :Missing Attribute Values: None\n",
      "    :Class Distribution: 33.3% for each of 3 classes.\n",
      "    :Creator: R.A. Fisher\n",
      "    :Donor: Michael Marshall (MARSHALL%PLU@io.arc.nasa.gov)\n",
      "    :Date: July, 1988\n",
      "\n",
      "The famous Iris database, first used by Sir R.A. Fisher. The dataset is taken\n",
      "from Fisher's paper. Note that it's the same as in R, but not as in the UCI\n",
      "Machine Learning Repository, which has two wrong data points.\n",
      "\n",
      "This is perhaps the best known database to be found in the\n",
      "pattern recognition literature.  Fisher's paper is a classic in the field and\n",
      "is referenced frequently to this day.  (See Duda & Hart, for example.)  The\n",
      "data set contains 3 classes of 50 instances each, where each class refers to a\n",
      "type of iris plant.  One class is linearly separable from the other 2; the\n",
      "latter are NOT linearly separable from each other.\n",
      "\n",
      ".. topic:: References\n",
      "\n",
      "   - Fisher, R.A. \"The use of multiple measurements in taxonomic problems\"\n",
      "     Annual Eugenics, 7, Part II, 179-188 (1936); also in \"Contributions to\n",
      "     Mathematical Statistics\" (John Wiley, NY, 1950).\n",
      "   - Duda, R.O., & Hart, P.E. (1973) Pattern Classification and Scene Analysis.\n",
      "     (Q327.D83) John Wiley & Sons.  ISBN 0-471-22361-1.  See page 218.\n",
      "   - Dasarathy, B.V. (1980) \"Nosing Around the Neighborhood: A New System\n",
      "     Structure and Classification Rule for Recognition in Partially Exposed\n",
      "     Environments\".  IEEE Transactions on Pattern Analysis and Machine\n",
      "     Intelligence, Vol. PAMI-2, No. 1, 67-71.\n",
      "   - Gates, G.W. (1972) \"The Reduced Nearest Neighbor Rule\".  IEEE Transactions\n",
      "     on Information Theory, May 1972, 431-433.\n",
      "   - See also: 1988 MLC Proceedings, 54-64.  Cheeseman et al\"s AUTOCLASS II\n",
      "     conceptual clustering system finds 3 classes in the data.\n",
      "   - Many, many more ...\n"
     ]
    }
   ],
   "source": [
    "print(iris.DESCR)"
   ]
  },
  {
   "cell_type": "markdown",
   "id": "332eb45f",
   "metadata": {},
   "source": [
    "#### Executing code using python libraries"
   ]
  },
  {
   "cell_type": "code",
   "execution_count": 9,
   "id": "91bd44b0",
   "metadata": {},
   "outputs": [
    {
     "name": "stdout",
     "output_type": "stream",
     "text": [
      "[1 2 3]\n"
     ]
    }
   ],
   "source": [
    "#importing \n",
    "a=numpy.array([1,2,3])\n",
    "print(a)"
   ]
  },
  {
   "cell_type": "markdown",
   "id": "4233316e",
   "metadata": {},
   "source": [
    "### Various options in Jupyter Notebook Markdown Documentation."
   ]
  },
  {
   "cell_type": "markdown",
   "id": "1abca104",
   "metadata": {},
   "source": [
    "Text can be added to Jupyter Notebooks using Markdown cells, we can change the cell type to Markdown by using the Cell menu, the toolbar, or the key shortcut m. It's commomd can make text italic or bold by surrounding a block of text with a single or double # respectively. Markdown is a popular Markup language which is a writing standard for data scientists and analysts. Some basic and most used features are: Headings, Blockquotes, Symbols, Bold and Italic text, links, lines and tables."
   ]
  },
  {
   "cell_type": "markdown",
   "id": "be6bf722",
   "metadata": {},
   "source": [
    "### References\n",
    "1. https://www.datacamp.com/community/tutorials\n",
    "<hr/>"
   ]
  },
  {
   "cell_type": "markdown",
   "id": "5dc3087d",
   "metadata": {},
   "source": [
    "## Conclusion/Results"
   ]
  },
  {
   "cell_type": "markdown",
   "id": "2ca5f18a",
   "metadata": {},
   "source": [
    "This assignment given us the basic idea about the ML/Analysis, libraries and datasets."
   ]
  }
 ],
 "metadata": {
  "kernelspec": {
   "display_name": "Python 3 (ipykernel)",
   "language": "python",
   "name": "python3"
  },
  "language_info": {
   "codemirror_mode": {
    "name": "ipython",
    "version": 3
   },
   "file_extension": ".py",
   "mimetype": "text/x-python",
   "name": "python",
   "nbconvert_exporter": "python",
   "pygments_lexer": "ipython3",
   "version": "3.9.7"
  }
 },
 "nbformat": 4,
 "nbformat_minor": 5
}
