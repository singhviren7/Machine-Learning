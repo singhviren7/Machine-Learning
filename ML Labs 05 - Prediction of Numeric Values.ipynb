{
 "cells": [
  {
   "cell_type": "markdown",
   "id": "91389c9b",
   "metadata": {},
   "source": [
    "********************************************************************************************************************************\n",
    "#  ML Lab 05 - Prediction of Numeric Values\n",
    "\n",
    "\n",
    "By: **Virendra Singh** <br>\n",
    "Linkedin: https://www.linkedin.com/in/singhviren7/\n",
    "\n",
    "<hr/>\n"
   ]
  },
  {
   "cell_type": "markdown",
   "id": "f2d3d3b9",
   "metadata": {},
   "source": [
    "********************************************************************************************************************************\n",
    "#  ML Lab 05 - Prediction of Numeric Values\n",
    "\n",
    "\n",
    "By: **Virendra Singh** <br>\n",
    "Linkedin: https://www.linkedin.com/in/singhviren7/\n",
    "\n",
    "<hr/>\n"
   ]
  },
  {
   "cell_type": "markdown",
   "id": "d682e81d",
   "metadata": {},
   "source": [
    "## Lab Overview  \n",
    "### Objectives\n",
    "\n",
    "- The attached dataset has rent details of some houses in Lavasa.\n",
    "1. What are your observations on the Dataset?\n",
    "2. What are the different Error Measures (Evaluation Metrics) in relation to Linear Regression? How much do you get in the above cases?\n",
    "3. Note down the errors/losses when the train-test ratio is 50:50, 60:40, 70:30, and 80:20\n",
    "4. During LinearRegression() process, what is the impact of giving TRUE/FALSE as the value for Normalize Parameter?"
   ]
  },
  {
   "cell_type": "markdown",
   "id": "1eae1687",
   "metadata": {},
   "source": [
    "### Problem Definition\n",
    "- We have to predict the numerical values in data and to explore the different features of it. \n",
    "- Data analysis EDA to be done with various visulization and dealing with odd features.\n",
    "- Preapering the data for the prediction and compairing different parameters."
   ]
  },
  {
   "cell_type": "markdown",
   "id": "7636f181",
   "metadata": {},
   "source": [
    "### Approach\n",
    "`Data exploration is the first step of data analysis used to explore and visualize data to uncover insights from the start or identify areas or patterns to dig into more.`\n",
    "- First load the data and explore it's various features and parameters.\n",
    "- In EDA part using visulization various plota are drawn and different inshights are gathered.\n",
    "- Preaper the data for modling. Using Linear Regression we will predict the values and find out the different parameters.\n",
    "- Compare different values and explote the parameters of linear regression."
   ]
  },
  {
   "cell_type": "markdown",
   "id": "450b8486",
   "metadata": {},
   "source": [
    "## CODE:"
   ]
  },
  {
   "cell_type": "code",
   "execution_count": 12,
   "id": "918a4aad",
   "metadata": {},
   "outputs": [],
   "source": [
    "# Importing the libraries.\n",
    "import pandas as pd\n",
    "import numpy as np\n",
    "from sklearn.datasets import make_classification\n",
    "import matplotlib.pyplot as plt\n",
    "import seaborn as sns\n",
    "%matplotlib inline\n",
    "import warnings\n",
    "warnings.filterwarnings('ignore')"
   ]
  },
  {
   "cell_type": "markdown",
   "id": "bdebf89c",
   "metadata": {},
   "source": [
    " <hr>"
   ]
  },
  {
   "cell_type": "markdown",
   "id": "bb7fd3fa",
   "metadata": {},
   "source": [
    "### Loading the dataset:"
   ]
  },
  {
   "cell_type": "code",
   "execution_count": 4,
   "id": "b1418ff3",
   "metadata": {},
   "outputs": [
    {
     "data": {
      "application/javascript": [
       "\n",
       "        if (window._pyforest_update_imports_cell) { window._pyforest_update_imports_cell('import pandas as pd'); }\n",
       "    "
      ],
      "text/plain": [
       "<IPython.core.display.Javascript object>"
      ]
     },
     "metadata": {},
     "output_type": "display_data"
    }
   ],
   "source": [
    "data=pd.read_csv(\"HousePrices - Lab5.csv\")"
   ]
  },
  {
   "cell_type": "code",
   "execution_count": 5,
   "id": "ce76e81a",
   "metadata": {},
   "outputs": [
    {
     "data": {
      "text/html": [
       "<div>\n",
       "<style scoped>\n",
       "    .dataframe tbody tr th:only-of-type {\n",
       "        vertical-align: middle;\n",
       "    }\n",
       "\n",
       "    .dataframe tbody tr th {\n",
       "        vertical-align: top;\n",
       "    }\n",
       "\n",
       "    .dataframe thead th {\n",
       "        text-align: right;\n",
       "    }\n",
       "</style>\n",
       "<table border=\"1\" class=\"dataframe\">\n",
       "  <thead>\n",
       "    <tr style=\"text-align: right;\">\n",
       "      <th></th>\n",
       "      <th>BuildingType</th>\n",
       "      <th>Location</th>\n",
       "      <th>Size</th>\n",
       "      <th>AreaSqFt</th>\n",
       "      <th>NoOfBath</th>\n",
       "      <th>NoOfPeople</th>\n",
       "      <th>NoOfBalcony</th>\n",
       "      <th>RentPerMonth</th>\n",
       "    </tr>\n",
       "  </thead>\n",
       "  <tbody>\n",
       "    <tr>\n",
       "      <th>0</th>\n",
       "      <td>Minimum Budget Rooms</td>\n",
       "      <td>Portofino H</td>\n",
       "      <td>1 BHK</td>\n",
       "      <td>400.0</td>\n",
       "      <td>1</td>\n",
       "      <td>1</td>\n",
       "      <td>1</td>\n",
       "      <td>1100.0</td>\n",
       "    </tr>\n",
       "    <tr>\n",
       "      <th>1</th>\n",
       "      <td>Minimum Budget Rooms</td>\n",
       "      <td>Portofino H</td>\n",
       "      <td>1 BHK</td>\n",
       "      <td>450.0</td>\n",
       "      <td>1</td>\n",
       "      <td>1</td>\n",
       "      <td>1</td>\n",
       "      <td>1100.0</td>\n",
       "    </tr>\n",
       "    <tr>\n",
       "      <th>2</th>\n",
       "      <td>Minimum Budget Rooms</td>\n",
       "      <td>School Street</td>\n",
       "      <td>1 BHK</td>\n",
       "      <td>530.0</td>\n",
       "      <td>1</td>\n",
       "      <td>1</td>\n",
       "      <td>0</td>\n",
       "      <td>1166.0</td>\n",
       "    </tr>\n",
       "    <tr>\n",
       "      <th>3</th>\n",
       "      <td>Minimum Budget Rooms</td>\n",
       "      <td>Portofino B</td>\n",
       "      <td>1 BHK</td>\n",
       "      <td>400.0</td>\n",
       "      <td>1</td>\n",
       "      <td>1</td>\n",
       "      <td>0</td>\n",
       "      <td>1400.0</td>\n",
       "    </tr>\n",
       "    <tr>\n",
       "      <th>4</th>\n",
       "      <td>Minimum Budget Rooms</td>\n",
       "      <td>School Street</td>\n",
       "      <td>2 BHK</td>\n",
       "      <td>460.0</td>\n",
       "      <td>1</td>\n",
       "      <td>1</td>\n",
       "      <td>0</td>\n",
       "      <td>1500.0</td>\n",
       "    </tr>\n",
       "  </tbody>\n",
       "</table>\n",
       "</div>"
      ],
      "text/plain": [
       "           BuildingType       Location   Size  AreaSqFt  NoOfBath  NoOfPeople  \\\n",
       "0  Minimum Budget Rooms    Portofino H  1 BHK     400.0         1           1   \n",
       "1  Minimum Budget Rooms    Portofino H  1 BHK     450.0         1           1   \n",
       "2  Minimum Budget Rooms  School Street  1 BHK     530.0         1           1   \n",
       "3  Minimum Budget Rooms    Portofino B  1 BHK     400.0         1           1   \n",
       "4  Minimum Budget Rooms  School Street  2 BHK     460.0         1           1   \n",
       "\n",
       "   NoOfBalcony  RentPerMonth  \n",
       "0            1        1100.0  \n",
       "1            1        1100.0  \n",
       "2            0        1166.0  \n",
       "3            0        1400.0  \n",
       "4            0        1500.0  "
      ]
     },
     "execution_count": 5,
     "metadata": {},
     "output_type": "execute_result"
    }
   ],
   "source": [
    "data.head()"
   ]
  },
  {
   "cell_type": "code",
   "execution_count": 6,
   "id": "876b04ff",
   "metadata": {},
   "outputs": [
    {
     "name": "stdout",
     "output_type": "stream",
     "text": [
      "Shape of data:  (1000, 8)\n"
     ]
    }
   ],
   "source": [
    "print(\"Shape of data: \", data.shape)"
   ]
  },
  {
   "cell_type": "code",
   "execution_count": 7,
   "id": "b83222f6",
   "metadata": {},
   "outputs": [
    {
     "name": "stdout",
     "output_type": "stream",
     "text": [
      "<class 'pandas.core.frame.DataFrame'>\n",
      "RangeIndex: 1000 entries, 0 to 999\n",
      "Data columns (total 8 columns):\n",
      " #   Column        Non-Null Count  Dtype  \n",
      "---  ------        --------------  -----  \n",
      " 0   BuildingType  1000 non-null   object \n",
      " 1   Location      1000 non-null   object \n",
      " 2   Size          1000 non-null   object \n",
      " 3   AreaSqFt      1000 non-null   float64\n",
      " 4   NoOfBath      1000 non-null   int64  \n",
      " 5   NoOfPeople    1000 non-null   int64  \n",
      " 6   NoOfBalcony   1000 non-null   int64  \n",
      " 7   RentPerMonth  1000 non-null   float64\n",
      "dtypes: float64(2), int64(3), object(3)\n",
      "memory usage: 62.6+ KB\n"
     ]
    }
   ],
   "source": [
    "data.info()  #Dataset info."
   ]
  },
  {
   "cell_type": "code",
   "execution_count": 8,
   "id": "ccb85279",
   "metadata": {},
   "outputs": [
    {
     "data": {
      "text/html": [
       "<div>\n",
       "<style scoped>\n",
       "    .dataframe tbody tr th:only-of-type {\n",
       "        vertical-align: middle;\n",
       "    }\n",
       "\n",
       "    .dataframe tbody tr th {\n",
       "        vertical-align: top;\n",
       "    }\n",
       "\n",
       "    .dataframe thead th {\n",
       "        text-align: right;\n",
       "    }\n",
       "</style>\n",
       "<table border=\"1\" class=\"dataframe\">\n",
       "  <thead>\n",
       "    <tr style=\"text-align: right;\">\n",
       "      <th></th>\n",
       "      <th>AreaSqFt</th>\n",
       "      <th>NoOfBath</th>\n",
       "      <th>NoOfPeople</th>\n",
       "      <th>NoOfBalcony</th>\n",
       "      <th>RentPerMonth</th>\n",
       "    </tr>\n",
       "  </thead>\n",
       "  <tbody>\n",
       "    <tr>\n",
       "      <th>count</th>\n",
       "      <td>1000.000000</td>\n",
       "      <td>1000.000000</td>\n",
       "      <td>1000.000000</td>\n",
       "      <td>1000.000000</td>\n",
       "      <td>1000.000000</td>\n",
       "    </tr>\n",
       "    <tr>\n",
       "      <th>mean</th>\n",
       "      <td>1548.270010</td>\n",
       "      <td>2.661000</td>\n",
       "      <td>2.168000</td>\n",
       "      <td>1.544000</td>\n",
       "      <td>10476.633500</td>\n",
       "    </tr>\n",
       "    <tr>\n",
       "      <th>std</th>\n",
       "      <td>1345.141175</td>\n",
       "      <td>1.247251</td>\n",
       "      <td>0.959529</td>\n",
       "      <td>0.838312</td>\n",
       "      <td>10509.508971</td>\n",
       "    </tr>\n",
       "    <tr>\n",
       "      <th>min</th>\n",
       "      <td>375.000000</td>\n",
       "      <td>1.000000</td>\n",
       "      <td>1.000000</td>\n",
       "      <td>0.000000</td>\n",
       "      <td>1100.000000</td>\n",
       "    </tr>\n",
       "    <tr>\n",
       "      <th>25%</th>\n",
       "      <td>1090.000000</td>\n",
       "      <td>2.000000</td>\n",
       "      <td>2.000000</td>\n",
       "      <td>1.000000</td>\n",
       "      <td>4890.500000</td>\n",
       "    </tr>\n",
       "    <tr>\n",
       "      <th>50%</th>\n",
       "      <td>1270.000000</td>\n",
       "      <td>2.000000</td>\n",
       "      <td>2.000000</td>\n",
       "      <td>2.000000</td>\n",
       "      <td>7000.000000</td>\n",
       "    </tr>\n",
       "    <tr>\n",
       "      <th>75%</th>\n",
       "      <td>1664.250000</td>\n",
       "      <td>3.000000</td>\n",
       "      <td>2.000000</td>\n",
       "      <td>2.000000</td>\n",
       "      <td>11925.000000</td>\n",
       "    </tr>\n",
       "    <tr>\n",
       "      <th>max</th>\n",
       "      <td>35000.000000</td>\n",
       "      <td>11.000000</td>\n",
       "      <td>6.000000</td>\n",
       "      <td>3.000000</td>\n",
       "      <td>96000.000000</td>\n",
       "    </tr>\n",
       "  </tbody>\n",
       "</table>\n",
       "</div>"
      ],
      "text/plain": [
       "           AreaSqFt     NoOfBath   NoOfPeople  NoOfBalcony  RentPerMonth\n",
       "count   1000.000000  1000.000000  1000.000000  1000.000000   1000.000000\n",
       "mean    1548.270010     2.661000     2.168000     1.544000  10476.633500\n",
       "std     1345.141175     1.247251     0.959529     0.838312  10509.508971\n",
       "min      375.000000     1.000000     1.000000     0.000000   1100.000000\n",
       "25%     1090.000000     2.000000     2.000000     1.000000   4890.500000\n",
       "50%     1270.000000     2.000000     2.000000     2.000000   7000.000000\n",
       "75%     1664.250000     3.000000     2.000000     2.000000  11925.000000\n",
       "max    35000.000000    11.000000     6.000000     3.000000  96000.000000"
      ]
     },
     "execution_count": 8,
     "metadata": {},
     "output_type": "execute_result"
    }
   ],
   "source": [
    "data.describe() #Five number summary of data."
   ]
  },
  {
   "cell_type": "markdown",
   "id": "cd484a88",
   "metadata": {},
   "source": [
    "### Exploratory Data Analysis:"
   ]
  },
  {
   "cell_type": "code",
   "execution_count": 9,
   "id": "daf11c99",
   "metadata": {},
   "outputs": [
    {
     "data": {
      "text/plain": [
       "Semi Furnished Single Room     274\n",
       "Semi Furnished Flat            246\n",
       "Fully Furnished Single Room    153\n",
       "Minimum Budget Rooms           146\n",
       "Semi Furnished Villa            63\n",
       "Fully Furnished Flat            41\n",
       "Super Furnished Single Room     25\n",
       "Super Furnished Villa           21\n",
       "Fully Furnished Villa           19\n",
       "Super Furnished Flat            12\n",
       "Name: BuildingType, dtype: int64"
      ]
     },
     "execution_count": 9,
     "metadata": {},
     "output_type": "execute_result"
    }
   ],
   "source": [
    "data[\"BuildingType\"].value_counts()"
   ]
  },
  {
   "cell_type": "code",
   "execution_count": 10,
   "id": "65b2c8b9",
   "metadata": {},
   "outputs": [
    {
     "data": {
      "application/javascript": [
       "\n",
       "        if (window._pyforest_update_imports_cell) { window._pyforest_update_imports_cell('import pandas as pd\\nimport matplotlib.pyplot as plt'); }\n",
       "    "
      ],
      "text/plain": [
       "<IPython.core.display.Javascript object>"
      ]
     },
     "metadata": {},
     "output_type": "display_data"
    },
    {
     "data": {
      "application/javascript": [
       "\n",
       "        if (window._pyforest_update_imports_cell) { window._pyforest_update_imports_cell('import pandas as pd\\nimport matplotlib.pyplot as plt'); }\n",
       "    "
      ],
      "text/plain": [
       "<IPython.core.display.Javascript object>"
      ]
     },
     "metadata": {},
     "output_type": "display_data"
    },
    {
     "data": {
      "image/png": "[encoded data removed]",
      "text/plain": [
       "<Figure size 576x360 with 1 Axes>"
      ]
     },
     "metadata": {
      "needs_background": "light"
     },
     "output_type": "display_data"
    }
   ],
   "source": [
    "plt.figure(figsize=(8,5))\n",
    "data[\"BuildingType\"].value_counts().plot(kind='barh')\n",
    "plt.show()"
   ]
  },
  {
   "cell_type": "markdown",
   "id": "ff972082",
   "metadata": {},
   "source": [
    "There are huge no of places which are semi furnished and Super furnished are only few."
   ]
  },
  {
   "cell_type": "code",
   "execution_count": 11,
   "id": "22fd02eb",
   "metadata": {},
   "outputs": [
    {
     "data": {
      "application/javascript": [
       "\n",
       "        if (window._pyforest_update_imports_cell) { window._pyforest_update_imports_cell('import pandas as pd\\nimport matplotlib.pyplot as plt'); }\n",
       "    "
      ],
      "text/plain": [
       "<IPython.core.display.Javascript object>"
      ]
     },
     "metadata": {},
     "output_type": "display_data"
    },
    {
     "data": {
      "application/javascript": [
       "\n",
       "        if (window._pyforest_update_imports_cell) { window._pyforest_update_imports_cell('import pandas as pd\\nimport matplotlib.pyplot as plt'); }\n",
       "    "
      ],
      "text/plain": [
       "<IPython.core.display.Javascript object>"
      ]
     },
     "metadata": {},
     "output_type": "display_data"
    },
    {
     "data": {
      "image/png": "[encoded data removed]",
      "text/plain": [
       "<Figure size 576x360 with 1 Axes>"
      ]
     },
     "metadata": {
      "needs_background": "light"
     },
     "output_type": "display_data"
    }
   ],
   "source": [
    "plt.figure(figsize=(8,5))\n",
    "data[\"Location\"].value_counts().plot(kind='barh')\n",
    "plt.show()"
   ]
  },
  {
   "cell_type": "markdown",
   "id": "927d4fbd",
   "metadata": {},
   "source": [
    "In data clubviwe road have max numbers of homes avaliable, While there are different sections in Portofino, while Starter Homes are very less."
   ]
  },
  {
   "cell_type": "code",
   "execution_count": 12,
   "id": "e79dfb81",
   "metadata": {},
   "outputs": [
    {
     "data": {
      "application/javascript": [
       "\n",
       "        if (window._pyforest_update_imports_cell) { window._pyforest_update_imports_cell('import pandas as pd\\nimport matplotlib.pyplot as plt'); }\n",
       "    "
      ],
      "text/plain": [
       "<IPython.core.display.Javascript object>"
      ]
     },
     "metadata": {},
     "output_type": "display_data"
    },
    {
     "data": {
      "application/javascript": [
       "\n",
       "        if (window._pyforest_update_imports_cell) { window._pyforest_update_imports_cell('import pandas as pd\\nimport matplotlib.pyplot as plt'); }\n",
       "    "
      ],
      "text/plain": [
       "<IPython.core.display.Javascript object>"
      ]
     },
     "metadata": {},
     "output_type": "display_data"
    },
    {
     "data": {
      "application/javascript": [
       "\n",
       "        if (window._pyforest_update_imports_cell) { window._pyforest_update_imports_cell('import seaborn as sns\\nimport pandas as pd\\nimport matplotlib.pyplot as plt'); }\n",
       "    "
      ],
      "text/plain": [
       "<IPython.core.display.Javascript object>"
      ]
     },
     "metadata": {},
     "output_type": "display_data"
    },
    {
     "data": {
      "application/javascript": [
       "\n",
       "        if (window._pyforest_update_imports_cell) { window._pyforest_update_imports_cell('import seaborn as sns\\nimport pandas as pd\\nimport matplotlib.pyplot as plt'); }\n",
       "    "
      ],
      "text/plain": [
       "<IPython.core.display.Javascript object>"
      ]
     },
     "metadata": {},
     "output_type": "display_data"
    },
    {
     "data": {
      "application/javascript": [
       "\n",
       "        if (window._pyforest_update_imports_cell) { window._pyforest_update_imports_cell('import seaborn as sns\\nimport pandas as pd\\nimport matplotlib.pyplot as plt'); }\n",
       "    "
      ],
      "text/plain": [
       "<IPython.core.display.Javascript object>"
      ]
     },
     "metadata": {},
     "output_type": "display_data"
    },
    {
     "data": {
      "application/javascript": [
       "\n",
       "        if (window._pyforest_update_imports_cell) { window._pyforest_update_imports_cell('import seaborn as sns\\nimport pandas as pd\\nimport matplotlib.pyplot as plt'); }\n",
       "    "
      ],
      "text/plain": [
       "<IPython.core.display.Javascript object>"
      ]
     },
     "metadata": {},
     "output_type": "display_data"
    },
    {
     "data": {
      "application/javascript": [
       "\n",
       "        if (window._pyforest_update_imports_cell) { window._pyforest_update_imports_cell('import seaborn as sns\\nimport pandas as pd\\nimport matplotlib.pyplot as plt'); }\n",
       "    "
      ],
      "text/plain": [
       "<IPython.core.display.Javascript object>"
      ]
     },
     "metadata": {},
     "output_type": "display_data"
    },
    {
     "data": {
      "application/javascript": [
       "\n",
       "        if (window._pyforest_update_imports_cell) { window._pyforest_update_imports_cell('import seaborn as sns\\nimport pandas as pd\\nimport matplotlib.pyplot as plt'); }\n",
       "    "
      ],
      "text/plain": [
       "<IPython.core.display.Javascript object>"
      ]
     },
     "metadata": {},
     "output_type": "display_data"
    },
    {
     "data": {
      "application/javascript": [
       "\n",
       "        if (window._pyforest_update_imports_cell) { window._pyforest_update_imports_cell('import seaborn as sns\\nimport pandas as pd\\nimport matplotlib.pyplot as plt'); }\n",
       "    "
      ],
      "text/plain": [
       "<IPython.core.display.Javascript object>"
      ]
     },
     "metadata": {},
     "output_type": "display_data"
    },
    {
     "data": {
      "application/javascript": [
       "\n",
       "        if (window._pyforest_update_imports_cell) { window._pyforest_update_imports_cell('import seaborn as sns\\nimport pandas as pd\\nimport matplotlib.pyplot as plt'); }\n",
       "    "
      ],
      "text/plain": [
       "<IPython.core.display.Javascript object>"
      ]
     },
     "metadata": {},
     "output_type": "display_data"
    },
    {
     "data": {
      "image/png": "[encoded data removed]",
      "text/plain": [
       "<Figure size 1080x720 with 4 Axes>"
      ]
     },
     "metadata": {
      "needs_background": "light"
     },
     "output_type": "display_data"
    }
   ],
   "source": [
    "plt.figure(figsize=(15,10))\n",
    "plt.subplot(2,2,1)\n",
    "sns.scatterplot(x='AreaSqFt', y='RentPerMonth', data=data, hue='NoOfBalcony')\n",
    "\n",
    "plt.subplot(2,2,2)\n",
    "sns.scatterplot(x='AreaSqFt', y='RentPerMonth', data=data, hue='NoOfPeople')\n",
    "\n",
    "plt.subplot(2,2,3)\n",
    "sns.scatterplot(x='AreaSqFt', y='RentPerMonth', data=data, hue='NoOfBath')\n",
    "\n",
    "plt.subplot(2,2,4)\n",
    "sns.scatterplot(x='AreaSqFt', y='RentPerMonth', data=data, hue='Size')\n",
    "plt.show()"
   ]
  },
  {
   "cell_type": "markdown",
   "id": "88337844",
   "metadata": {},
   "source": [
    "We can observe the relationship between AreaSqFt and the RenrPerMonth in these plots depending on the Size, NoOfBath, NoOfPeople and NoOfBalcony."
   ]
  },
  {
   "cell_type": "code",
   "execution_count": 13,
   "id": "f8251e42",
   "metadata": {},
   "outputs": [
    {
     "data": {
      "application/javascript": [
       "\n",
       "        if (window._pyforest_update_imports_cell) { window._pyforest_update_imports_cell('import seaborn as sns\\nimport pandas as pd\\nimport matplotlib.pyplot as plt'); }\n",
       "    "
      ],
      "text/plain": [
       "<IPython.core.display.Javascript object>"
      ]
     },
     "metadata": {},
     "output_type": "display_data"
    },
    {
     "name": "stderr",
     "output_type": "stream",
     "text": [
      "C:\\Users\\VIRENDERSINGH\\anaconda3\\lib\\site-packages\\seaborn\\_decorators.py:36: FutureWarning: Pass the following variable as a keyword arg: x. From version 0.12, the only valid positional argument will be `data`, and passing other arguments without an explicit keyword will result in an error or misinterpretation.\n",
      "  warnings.warn(\n"
     ]
    },
    {
     "data": {
      "application/javascript": [
       "\n",
       "        if (window._pyforest_update_imports_cell) { window._pyforest_update_imports_cell('import seaborn as sns\\nimport pandas as pd\\nimport matplotlib.pyplot as plt'); }\n",
       "    "
      ],
      "text/plain": [
       "<IPython.core.display.Javascript object>"
      ]
     },
     "metadata": {},
     "output_type": "display_data"
    },
    {
     "data": {
      "image/png": "[encoded data removed]",
      "text/plain": [
       "<Figure size 432x288 with 1 Axes>"
      ]
     },
     "metadata": {
      "needs_background": "light"
     },
     "output_type": "display_data"
    }
   ],
   "source": [
    "sns.boxplot(data.RentPerMonth, color=\"red\")\n",
    "plt.show()"
   ]
  },
  {
   "cell_type": "markdown",
   "id": "8d167dd7",
   "metadata": {},
   "source": [
    "Maximun no of house rents are upto around 20000 ammount, while there are few house rents that are higher that that and up to around 90000. We can see the same trends in scatterplots."
   ]
  },
  {
   "cell_type": "code",
   "execution_count": 14,
   "id": "b5c934a7",
   "metadata": {},
   "outputs": [
    {
     "data": {
      "application/javascript": [
       "\n",
       "        if (window._pyforest_update_imports_cell) { window._pyforest_update_imports_cell('import seaborn as sns\\nimport pandas as pd\\nimport matplotlib.pyplot as plt'); }\n",
       "    "
      ],
      "text/plain": [
       "<IPython.core.display.Javascript object>"
      ]
     },
     "metadata": {},
     "output_type": "display_data"
    },
    {
     "data": {
      "application/javascript": [
       "\n",
       "        if (window._pyforest_update_imports_cell) { window._pyforest_update_imports_cell('import seaborn as sns\\nimport pandas as pd\\nimport matplotlib.pyplot as plt'); }\n",
       "    "
      ],
      "text/plain": [
       "<IPython.core.display.Javascript object>"
      ]
     },
     "metadata": {},
     "output_type": "display_data"
    },
    {
     "data": {
      "application/javascript": [
       "\n",
       "        if (window._pyforest_update_imports_cell) { window._pyforest_update_imports_cell('import seaborn as sns\\nimport pandas as pd\\nimport matplotlib.pyplot as plt'); }\n",
       "    "
      ],
      "text/plain": [
       "<IPython.core.display.Javascript object>"
      ]
     },
     "metadata": {},
     "output_type": "display_data"
    },
    {
     "data": {
      "image/png": "[encoded data removed]",
      "text/plain": [
       "<Figure size 720x576 with 1 Axes>"
      ]
     },
     "metadata": {
      "needs_background": "light"
     },
     "output_type": "display_data"
    }
   ],
   "source": [
    "plt.figure(figsize=(10,8))\n",
    "sns.boxplot(x='NoOfBalcony', y='RentPerMonth', data=data)\n",
    "plt.show()"
   ]
  },
  {
   "cell_type": "markdown",
   "id": "42629e82",
   "metadata": {},
   "source": [
    "We can see the house rents for different houses having various no of Balcony."
   ]
  },
  {
   "cell_type": "code",
   "execution_count": 15,
   "id": "ff4f7778",
   "metadata": {},
   "outputs": [
    {
     "data": {
      "application/javascript": [
       "\n",
       "        if (window._pyforest_update_imports_cell) { window._pyforest_update_imports_cell('import seaborn as sns\\nimport pandas as pd\\nimport matplotlib.pyplot as plt'); }\n",
       "    "
      ],
      "text/plain": [
       "<IPython.core.display.Javascript object>"
      ]
     },
     "metadata": {},
     "output_type": "display_data"
    },
    {
     "data": {
      "image/png": "[encoded data removed]",
      "text/plain": [
       "<Figure size 432x288 with 1 Axes>"
      ]
     },
     "metadata": {
      "needs_background": "light"
     },
     "output_type": "display_data"
    }
   ],
   "source": [
    "data['Size'].value_counts().plot(kind='bar')\n",
    "plt.show()"
   ]
  },
  {
   "cell_type": "markdown",
   "id": "7dee1d20",
   "metadata": {},
   "source": [
    "2 BHK are max no of houses avaliable for rents followed by 3 BHK. 1-9 BHK are very less in numbers and only few Sizes are of 1 RK."
   ]
  },
  {
   "cell_type": "code",
   "execution_count": 16,
   "id": "e4773d8f",
   "metadata": {},
   "outputs": [
    {
     "data": {
      "text/plain": [
       "Location       BuildingType               \n",
       "Clubview Road  Semi Furnished Single Room     52\n",
       "               Semi Furnished Flat            50\n",
       "               Minimum Budget Rooms           35\n",
       "               Fully Furnished Single Room    24\n",
       "               Semi Furnished Villa           22\n",
       "                                              ..\n",
       "School Street  Fully Furnished Villa           1\n",
       "               Super Furnished Single Room     1\n",
       "Starter Homes  Minimum Budget Rooms            4\n",
       "               Semi Furnished Single Room      4\n",
       "               Semi Furnished Flat             1\n",
       "Name: BuildingType, Length: 89, dtype: int64"
      ]
     },
     "execution_count": 16,
     "metadata": {},
     "output_type": "execute_result"
    }
   ],
   "source": [
    "data.groupby('Location')['BuildingType'].value_counts() #Clubbing different features."
   ]
  },
  {
   "cell_type": "code",
   "execution_count": 17,
   "id": "64014ee8",
   "metadata": {},
   "outputs": [
    {
     "data": {
      "text/plain": [
       "Clubview Road    213\n",
       "Portofino B      173\n",
       "School Street    138\n",
       "Portofino D      105\n",
       "Portofino C      103\n",
       "Portofino A       95\n",
       "Portofino H       62\n",
       "Portofino E       54\n",
       "Portofino G       26\n",
       "Portofino F       22\n",
       "Starter Homes      9\n",
       "Name: Location, dtype: int64"
      ]
     },
     "execution_count": 17,
     "metadata": {},
     "output_type": "execute_result"
    }
   ],
   "source": [
    "# Location counts\n",
    "data.Location.value_counts()"
   ]
  },
  {
   "cell_type": "markdown",
   "id": "d91c34c3",
   "metadata": {},
   "source": [
    "We can club all the Portofino into one char as they are at same location. It will reduce the data noise too."
   ]
  },
  {
   "cell_type": "code",
   "execution_count": 18,
   "id": "faab9f38",
   "metadata": {},
   "outputs": [],
   "source": [
    "p=[\"Portofino B\", \"Portofino D\", \"Portofino C\", \"Portofino A\",\"Portofino H\",\"Portofino E\", \"Portofino G\", \"Portofino F\"]"
   ]
  },
  {
   "cell_type": "code",
   "execution_count": 19,
   "id": "083a1b48",
   "metadata": {},
   "outputs": [
    {
     "data": {
      "application/javascript": [
       "\n",
       "        if (window._pyforest_update_imports_cell) { window._pyforest_update_imports_cell('import seaborn as sns\\nimport numpy as np\\nimport pandas as pd\\nimport matplotlib.pyplot as plt'); }\n",
       "    "
      ],
      "text/plain": [
       "<IPython.core.display.Javascript object>"
      ]
     },
     "metadata": {},
     "output_type": "display_data"
    }
   ],
   "source": [
    "data[\"Location\"]=np.where(data[\"Location\"].isin(p), \"Portofino\", data[\"Location\"])"
   ]
  },
  {
   "cell_type": "code",
   "execution_count": 20,
   "id": "61718205",
   "metadata": {},
   "outputs": [
    {
     "data": {
      "application/javascript": [
       "\n",
       "        if (window._pyforest_update_imports_cell) { window._pyforest_update_imports_cell('import seaborn as sns\\nimport numpy as np\\nimport pandas as pd\\nimport matplotlib.pyplot as plt'); }\n",
       "    "
      ],
      "text/plain": [
       "<IPython.core.display.Javascript object>"
      ]
     },
     "metadata": {},
     "output_type": "display_data"
    },
    {
     "data": {
      "application/javascript": [
       "\n",
       "        if (window._pyforest_update_imports_cell) { window._pyforest_update_imports_cell('import seaborn as sns\\nimport numpy as np\\nimport pandas as pd\\nimport matplotlib.pyplot as plt'); }\n",
       "    "
      ],
      "text/plain": [
       "<IPython.core.display.Javascript object>"
      ]
     },
     "metadata": {},
     "output_type": "display_data"
    },
    {
     "data": {
      "image/png": "[encoded data removed]",
      "text/plain": [
       "<Figure size 576x360 with 1 Axes>"
      ]
     },
     "metadata": {
      "needs_background": "light"
     },
     "output_type": "display_data"
    }
   ],
   "source": [
    "# Location count after clubbing.\n",
    "plt.figure(figsize=(8,5))\n",
    "data[\"Location\"].value_counts().plot(kind='bar', color=\"brown\")\n",
    "plt.show()"
   ]
  },
  {
   "cell_type": "markdown",
   "id": "9862a7af",
   "metadata": {},
   "source": [
    "We can clearly see the Portofino have maximin no of Houses."
   ]
  },
  {
   "cell_type": "code",
   "execution_count": 19,
   "id": "6064429d",
   "metadata": {},
   "outputs": [
    {
     "data": {
      "image/png": "[encoded data removed]",
      "text/plain": [
       "<Figure size 900x900 with 30 Axes>"
      ]
     },
     "metadata": {
      "needs_background": "light"
     },
     "output_type": "display_data"
    }
   ],
   "source": [
    "# Drawing pair plot to observe the different features.\n",
    "sns.pairplot(data)\n",
    "plt.title(\"Pair Plot\")\n",
    "plt.show()"
   ]
  },
  {
   "cell_type": "code",
   "execution_count": 20,
   "id": "42a8a936",
   "metadata": {},
   "outputs": [
    {
     "data": {
      "image/png": "[encoded data removed]",
      "text/plain": [
       "<Figure size 432x288 with 2 Axes>"
      ]
     },
     "metadata": {
      "needs_background": "light"
     },
     "output_type": "display_data"
    }
   ],
   "source": [
    "# Heatmap:\n",
    "sns.heatmap(data.corr(),annot=True, cmap='summer')\n",
    "plt.title(\"Heatmap\")\n",
    "plt.show()"
   ]
  },
  {
   "cell_type": "markdown",
   "id": "d36dd4e5",
   "metadata": {},
   "source": [
    "We can observe the corelations between different numerical features. Rentpermoth and Noofpeople are highly corelated in data. we can colpair all the corelations using color scale."
   ]
  },
  {
   "cell_type": "code",
   "execution_count": 21,
   "id": "4d947447",
   "metadata": {},
   "outputs": [],
   "source": [
    "df=data.copy() #copying data for future use. "
   ]
  },
  {
   "cell_type": "markdown",
   "id": "310c6c16",
   "metadata": {},
   "source": [
    "<hr>"
   ]
  },
  {
   "cell_type": "markdown",
   "id": "f287bec6",
   "metadata": {},
   "source": [
    "## Linear Model Creation"
   ]
  },
  {
   "cell_type": "markdown",
   "id": "3a67c3aa",
   "metadata": {},
   "source": [
    "#### Assigning the IV and DV to differnt variables."
   ]
  },
  {
   "cell_type": "code",
   "execution_count": 22,
   "id": "08e6394f",
   "metadata": {},
   "outputs": [],
   "source": [
    "X = data.drop('RentPerMonth', axis=1)\n",
    "y= data['RentPerMonth']"
   ]
  },
  {
   "cell_type": "markdown",
   "id": "5efb68e9",
   "metadata": {},
   "source": [
    "### Model using get_dummies function:\n",
    "`get_dummies() is used for data manipulation. It converts categorical data into dummy or indicator variables.`"
   ]
  },
  {
   "cell_type": "code",
   "execution_count": 23,
   "id": "63a55cb2",
   "metadata": {},
   "outputs": [],
   "source": [
    "X=pd.get_dummies(X)"
   ]
  },
  {
   "cell_type": "code",
   "execution_count": 24,
   "id": "e10d238a",
   "metadata": {},
   "outputs": [
    {
     "name": "stdout",
     "output_type": "stream",
     "text": [
      "(1000, 28)\n",
      "(1000,)\n"
     ]
    }
   ],
   "source": [
    "print(X.shape)\n",
    "print(y.shape)"
   ]
  },
  {
   "cell_type": "code",
   "execution_count": 25,
   "id": "35995a3d",
   "metadata": {},
   "outputs": [],
   "source": [
    "from sklearn.linear_model import LinearRegression\n",
    "from sklearn.metrics import r2_score, mean_absolute_error, mean_squared_error\n",
    "lr = LinearRegression()"
   ]
  },
  {
   "cell_type": "code",
   "execution_count": 26,
   "id": "f8ee0c0e",
   "metadata": {},
   "outputs": [
    {
     "data": {
      "text/plain": [
       "LinearRegression()"
      ]
     },
     "execution_count": 26,
     "metadata": {},
     "output_type": "execute_result"
    }
   ],
   "source": [
    "# Applying the regression model on X and y, i.e. IV & DV.\n",
    "lr.fit(X, y)"
   ]
  },
  {
   "cell_type": "code",
   "execution_count": 27,
   "id": "56118273",
   "metadata": {},
   "outputs": [
    {
     "name": "stdout",
     "output_type": "stream",
     "text": [
      "Regression Parameters:\n",
      "-----------------------------\n",
      "Coefficients: [ 4.88075793e-01  8.58645326e+02  1.66959885e+03  2.04825572e+02\n",
      "  3.08474165e+03 -9.45583597e+03  1.16858664e+04 -1.19637200e+04\n",
      " -8.69531466e+03 -1.19172023e+04 -2.37854321e+03  3.61784351e+03\n",
      " -6.20223422e+03  3.22243988e+04  4.97842148e+02  7.28207543e+02\n",
      " -3.27292998e+01 -1.19332039e+03  2.65413660e+02  2.20825668e+02\n",
      " -3.44344677e+02 -2.56581821e+02  7.40088934e+02  1.47523972e+03\n",
      "  1.61357225e+03  3.90436147e+03 -1.76720696e+03 -5.85136825e+03]\n",
      "-----------------------------\n",
      "Intercept: 10869.368728496953\n",
      "-----------------------------\n",
      "R^2 score: 0.9070643463074708\n",
      "-----------------------------\n"
     ]
    }
   ],
   "source": [
    "print(\"Regression Parameters:\")\n",
    "print(\"-----------------------------\")\n",
    "print(f'Coefficients: {lr.coef_}')\n",
    "print(\"-----------------------------\")\n",
    "print(f'Intercept: {lr.intercept_}')\n",
    "print(\"-----------------------------\")\n",
    "print(f'R^2 score: {lr.score(X, y)}')\n",
    "print(\"-----------------------------\")"
   ]
  },
  {
   "cell_type": "markdown",
   "id": "37c2fab8",
   "metadata": {},
   "source": [
    "#### Splitting the data in train, test."
   ]
  },
  {
   "cell_type": "code",
   "execution_count": 28,
   "id": "7a8dcb83",
   "metadata": {},
   "outputs": [
    {
     "name": "stdout",
     "output_type": "stream",
     "text": [
      "(700, 28)\n",
      "(300, 28)\n",
      "(700,)\n",
      "(300,)\n"
     ]
    }
   ],
   "source": [
    "from sklearn.model_selection import train_test_split\n",
    "X_train, X_test , y_train, y_test = train_test_split(X,y, test_size = 0.30, random_state = 1)\n",
    "print(X_train.shape)\n",
    "print(X_test.shape)\n",
    "print(y_train.shape)\n",
    "print(y_test.shape)"
   ]
  },
  {
   "cell_type": "code",
   "execution_count": 29,
   "id": "5cf5f8ae",
   "metadata": {},
   "outputs": [],
   "source": [
    "lr = LinearRegression()\n",
    "model = lr.fit(X_train,y_train)\n",
    "y_pred=model.predict(X_test)"
   ]
  },
  {
   "cell_type": "code",
   "execution_count": 30,
   "id": "fae3f742",
   "metadata": {},
   "outputs": [
    {
     "name": "stdout",
     "output_type": "stream",
     "text": [
      "Model Parameters:\n",
      "MAE: 2130.51\n",
      "MSE: 13555660.85\n",
      "R^2 score for model: 0.8982422431850969\n"
     ]
    }
   ],
   "source": [
    "print(\"Model Parameters:\")\n",
    "print('MAE: %.2f' % mean_absolute_error(y_test, y_pred))\n",
    "print('MSE: %.2f' % mean_squared_error(y_test, y_pred))\n",
    "print(f'R^2 score for model: {r2_score(y_test, y_pred)}')"
   ]
  },
  {
   "cell_type": "code",
   "execution_count": 31,
   "id": "f902ac6e",
   "metadata": {},
   "outputs": [
    {
     "data": {
      "text/plain": [
       "array([10920.95058405])"
      ]
     },
     "execution_count": 31,
     "metadata": {},
     "output_type": "execute_result"
    }
   ],
   "source": [
    "# checking the predicted price for one row of data:\n",
    "model.predict(X_test[:1])"
   ]
  },
  {
   "cell_type": "markdown",
   "id": "a590a273",
   "metadata": {},
   "source": [
    "<hr>"
   ]
  },
  {
   "cell_type": "markdown",
   "id": "7a0756bf",
   "metadata": {},
   "source": [
    "### Model Creation Using LabelEncoder function.\n",
    "`LabelEncoder can be used to normalize labels. It can also be used to transform non-numerical labels (as long as they are hashable and comparable) to numerical labels.`"
   ]
  },
  {
   "cell_type": "code",
   "execution_count": 32,
   "id": "50b82e59",
   "metadata": {},
   "outputs": [
    {
     "data": {
      "text/html": [
       "<div>\n",
       "<style scoped>\n",
       "    .dataframe tbody tr th:only-of-type {\n",
       "        vertical-align: middle;\n",
       "    }\n",
       "\n",
       "    .dataframe tbody tr th {\n",
       "        vertical-align: top;\n",
       "    }\n",
       "\n",
       "    .dataframe thead th {\n",
       "        text-align: right;\n",
       "    }\n",
       "</style>\n",
       "<table border=\"1\" class=\"dataframe\">\n",
       "  <thead>\n",
       "    <tr style=\"text-align: right;\">\n",
       "      <th></th>\n",
       "      <th>BuildingType</th>\n",
       "      <th>Location</th>\n",
       "      <th>Size</th>\n",
       "      <th>AreaSqFt</th>\n",
       "      <th>NoOfBath</th>\n",
       "      <th>NoOfPeople</th>\n",
       "      <th>NoOfBalcony</th>\n",
       "      <th>RentPerMonth</th>\n",
       "    </tr>\n",
       "  </thead>\n",
       "  <tbody>\n",
       "    <tr>\n",
       "      <th>0</th>\n",
       "      <td>Minimum Budget Rooms</td>\n",
       "      <td>Portofino</td>\n",
       "      <td>1 BHK</td>\n",
       "      <td>400.0</td>\n",
       "      <td>1</td>\n",
       "      <td>1</td>\n",
       "      <td>1</td>\n",
       "      <td>1100.0</td>\n",
       "    </tr>\n",
       "    <tr>\n",
       "      <th>1</th>\n",
       "      <td>Minimum Budget Rooms</td>\n",
       "      <td>Portofino</td>\n",
       "      <td>1 BHK</td>\n",
       "      <td>450.0</td>\n",
       "      <td>1</td>\n",
       "      <td>1</td>\n",
       "      <td>1</td>\n",
       "      <td>1100.0</td>\n",
       "    </tr>\n",
       "    <tr>\n",
       "      <th>2</th>\n",
       "      <td>Minimum Budget Rooms</td>\n",
       "      <td>School Street</td>\n",
       "      <td>1 BHK</td>\n",
       "      <td>530.0</td>\n",
       "      <td>1</td>\n",
       "      <td>1</td>\n",
       "      <td>0</td>\n",
       "      <td>1166.0</td>\n",
       "    </tr>\n",
       "  </tbody>\n",
       "</table>\n",
       "</div>"
      ],
      "text/plain": [
       "           BuildingType       Location   Size  AreaSqFt  NoOfBath  NoOfPeople  \\\n",
       "0  Minimum Budget Rooms      Portofino  1 BHK     400.0         1           1   \n",
       "1  Minimum Budget Rooms      Portofino  1 BHK     450.0         1           1   \n",
       "2  Minimum Budget Rooms  School Street  1 BHK     530.0         1           1   \n",
       "\n",
       "   NoOfBalcony  RentPerMonth  \n",
       "0            1        1100.0  \n",
       "1            1        1100.0  \n",
       "2            0        1166.0  "
      ]
     },
     "execution_count": 32,
     "metadata": {},
     "output_type": "execute_result"
    }
   ],
   "source": [
    "df.head(3)  #df created earliear"
   ]
  },
  {
   "cell_type": "code",
   "execution_count": 33,
   "id": "49f6b66b",
   "metadata": {},
   "outputs": [],
   "source": [
    "x = df.drop('RentPerMonth', axis=1)\n",
    "y= df['RentPerMonth']"
   ]
  },
  {
   "cell_type": "code",
   "execution_count": 34,
   "id": "90d39267",
   "metadata": {},
   "outputs": [
    {
     "name": "stdout",
     "output_type": "stream",
     "text": [
      "<class 'pandas.core.frame.DataFrame'>\n",
      "RangeIndex: 1000 entries, 0 to 999\n",
      "Data columns (total 7 columns):\n",
      " #   Column        Non-Null Count  Dtype  \n",
      "---  ------        --------------  -----  \n",
      " 0   BuildingType  1000 non-null   object \n",
      " 1   Location      1000 non-null   object \n",
      " 2   Size          1000 non-null   object \n",
      " 3   AreaSqFt      1000 non-null   float64\n",
      " 4   NoOfBath      1000 non-null   int64  \n",
      " 5   NoOfPeople    1000 non-null   int64  \n",
      " 6   NoOfBalcony   1000 non-null   int64  \n",
      "dtypes: float64(1), int64(3), object(3)\n",
      "memory usage: 54.8+ KB\n"
     ]
    }
   ],
   "source": [
    "x.info()"
   ]
  },
  {
   "cell_type": "code",
   "execution_count": 35,
   "id": "f5361806",
   "metadata": {},
   "outputs": [],
   "source": [
    "# Import label encoder\n",
    "from sklearn import preprocessing\n",
    "le = preprocessing.LabelEncoder()"
   ]
  },
  {
   "cell_type": "code",
   "execution_count": 36,
   "id": "b5a16586",
   "metadata": {},
   "outputs": [],
   "source": [
    "x[\"BuildingType\"]=le.fit_transform(x[\"BuildingType\"])\n",
    "x[\"Location\"]=le.fit_transform(x[\"Location\"])\n",
    "x[\"Size\"]=le.fit_transform(x[\"Size\"])"
   ]
  },
  {
   "cell_type": "code",
   "execution_count": 37,
   "id": "5b63b68f",
   "metadata": {},
   "outputs": [],
   "source": [
    "from sklearn.model_selection import train_test_split\n",
    "X_train, X_test , y_train, y_test = train_test_split(x,y, test_size = 0.20, random_state = 1)"
   ]
  },
  {
   "cell_type": "code",
   "execution_count": 38,
   "id": "b1eba6f2",
   "metadata": {},
   "outputs": [
    {
     "name": "stdout",
     "output_type": "stream",
     "text": [
      "(800, 7)\n",
      "(200, 7)\n",
      "(800,)\n",
      "(200,)\n"
     ]
    }
   ],
   "source": [
    "print(X_train.shape)\n",
    "print(X_test.shape)\n",
    "print(y_train.shape)\n",
    "print(y_test.shape)"
   ]
  },
  {
   "cell_type": "code",
   "execution_count": 39,
   "id": "e61c983e",
   "metadata": {},
   "outputs": [],
   "source": [
    "from sklearn.linear_model import LinearRegression\n",
    "from sklearn.metrics import r2_score, mean_absolute_error, mean_squared_error\n",
    "lr = LinearRegression()"
   ]
  },
  {
   "cell_type": "code",
   "execution_count": 40,
   "id": "bfe358d4",
   "metadata": {},
   "outputs": [],
   "source": [
    "model = lr.fit(X_train,y_train)\n",
    "y_pred=model.predict(X_test)"
   ]
  },
  {
   "cell_type": "code",
   "execution_count": 41,
   "id": "af9de08f",
   "metadata": {},
   "outputs": [
    {
     "name": "stdout",
     "output_type": "stream",
     "text": [
      "MAE: 3560.25\n",
      "MSE: 33119450.80\n",
      "R^2: 0.72619\n"
     ]
    }
   ],
   "source": [
    "print('MAE: %.2f' % mean_absolute_error(y_test, y_pred))\n",
    "print('MSE: %.2f' % mean_squared_error(y_test, y_pred))\n",
    "print('R^2: %.5f' % r2_score(y_test, y_pred))"
   ]
  },
  {
   "cell_type": "code",
   "execution_count": 42,
   "id": "fd2bcb52",
   "metadata": {},
   "outputs": [
    {
     "name": "stdout",
     "output_type": "stream",
     "text": [
      "Regression Parameters:\n",
      "-----------------------------\n",
      "Coefficients: [ 5.64707796e+02 -6.60636650e+02 -4.66921351e+02  1.03089604e+00\n",
      "  2.36370942e+03  6.63243802e+03 -1.73816830e+02]\n",
      "-----------------------------\n",
      "Intercept: -11924.733036242873\n",
      "-----------------------------\n"
     ]
    }
   ],
   "source": [
    "print(\"Regression Parameters:\")\n",
    "print(\"-----------------------------\")\n",
    "print(f'Coefficients: {lr.coef_}')\n",
    "print(\"-----------------------------\")\n",
    "print(f'Intercept: {lr.intercept_}')\n",
    "print(\"-----------------------------\")"
   ]
  },
  {
   "cell_type": "markdown",
   "id": "27e4d917",
   "metadata": {},
   "source": [
    "NOTE: In first prediction which is done using get_dummies() the r^2_Score war higher than that is in model created Using LabelEncoder.\n"
   ]
  },
  {
   "cell_type": "markdown",
   "id": "798e6917",
   "metadata": {},
   "source": [
    "<hr>"
   ]
  },
  {
   "cell_type": "markdown",
   "id": "1696d423",
   "metadata": {},
   "source": [
    "#### Creating a random mannual dataset to check the prediction of model."
   ]
  },
  {
   "cell_type": "code",
   "execution_count": 43,
   "id": "ecbe9b2c",
   "metadata": {},
   "outputs": [
    {
     "data": {
      "text/html": [
       "<div>\n",
       "<style scoped>\n",
       "    .dataframe tbody tr th:only-of-type {\n",
       "        vertical-align: middle;\n",
       "    }\n",
       "\n",
       "    .dataframe tbody tr th {\n",
       "        vertical-align: top;\n",
       "    }\n",
       "\n",
       "    .dataframe thead th {\n",
       "        text-align: right;\n",
       "    }\n",
       "</style>\n",
       "<table border=\"1\" class=\"dataframe\">\n",
       "  <thead>\n",
       "    <tr style=\"text-align: right;\">\n",
       "      <th></th>\n",
       "      <th>BuildingType</th>\n",
       "      <th>Location</th>\n",
       "      <th>Size</th>\n",
       "      <th>AreaSqFt</th>\n",
       "      <th>NoOfBath</th>\n",
       "      <th>NoOfPeople</th>\n",
       "      <th>NoOfBalcony</th>\n",
       "    </tr>\n",
       "  </thead>\n",
       "  <tbody>\n",
       "    <tr>\n",
       "      <th>0</th>\n",
       "      <td>1.0</td>\n",
       "      <td>2.0</td>\n",
       "      <td>1.0</td>\n",
       "      <td>300.0</td>\n",
       "      <td>1.0</td>\n",
       "      <td>1.0</td>\n",
       "      <td>0.0</td>\n",
       "    </tr>\n",
       "    <tr>\n",
       "      <th>1</th>\n",
       "      <td>2.0</td>\n",
       "      <td>3.0</td>\n",
       "      <td>2.0</td>\n",
       "      <td>200.0</td>\n",
       "      <td>2.0</td>\n",
       "      <td>2.0</td>\n",
       "      <td>1.0</td>\n",
       "    </tr>\n",
       "    <tr>\n",
       "      <th>2</th>\n",
       "      <td>3.0</td>\n",
       "      <td>4.0</td>\n",
       "      <td>3.0</td>\n",
       "      <td>300.0</td>\n",
       "      <td>3.0</td>\n",
       "      <td>3.0</td>\n",
       "      <td>2.0</td>\n",
       "    </tr>\n",
       "    <tr>\n",
       "      <th>3</th>\n",
       "      <td>4.0</td>\n",
       "      <td>1.0</td>\n",
       "      <td>4.0</td>\n",
       "      <td>400.0</td>\n",
       "      <td>4.0</td>\n",
       "      <td>4.0</td>\n",
       "      <td>3.0</td>\n",
       "    </tr>\n",
       "    <tr>\n",
       "      <th>4</th>\n",
       "      <td>0.0</td>\n",
       "      <td>1.0</td>\n",
       "      <td>5.0</td>\n",
       "      <td>400.0</td>\n",
       "      <td>5.0</td>\n",
       "      <td>5.0</td>\n",
       "      <td>1.0</td>\n",
       "    </tr>\n",
       "    <tr>\n",
       "      <th>5</th>\n",
       "      <td>5.0</td>\n",
       "      <td>2.0</td>\n",
       "      <td>6.0</td>\n",
       "      <td>200.0</td>\n",
       "      <td>6.0</td>\n",
       "      <td>6.0</td>\n",
       "      <td>2.0</td>\n",
       "    </tr>\n",
       "    <tr>\n",
       "      <th>6</th>\n",
       "      <td>6.0</td>\n",
       "      <td>3.0</td>\n",
       "      <td>7.0</td>\n",
       "      <td>350.0</td>\n",
       "      <td>7.0</td>\n",
       "      <td>1.0</td>\n",
       "      <td>3.0</td>\n",
       "    </tr>\n",
       "  </tbody>\n",
       "</table>\n",
       "</div>"
      ],
      "text/plain": [
       "   BuildingType  Location  Size  AreaSqFt  NoOfBath  NoOfPeople  NoOfBalcony\n",
       "0           1.0       2.0   1.0     300.0       1.0         1.0          0.0\n",
       "1           2.0       3.0   2.0     200.0       2.0         2.0          1.0\n",
       "2           3.0       4.0   3.0     300.0       3.0         3.0          2.0\n",
       "3           4.0       1.0   4.0     400.0       4.0         4.0          3.0\n",
       "4           0.0       1.0   5.0     400.0       5.0         5.0          1.0\n",
       "5           5.0       2.0   6.0     200.0       6.0         6.0          2.0\n",
       "6           6.0       3.0   7.0     350.0       7.0         1.0          3.0"
      ]
     },
     "execution_count": 43,
     "metadata": {},
     "output_type": "execute_result"
    }
   ],
   "source": [
    "m_test=pd.DataFrame(columns=['BuildingType', 'Location', 'Size', 'AreaSqFt', 'NoOfBath','NoOfPeople', 'NoOfBalcony'])\n",
    "\n",
    "t1={'BuildingType':1, 'Location':2, 'Size':1, 'AreaSqFt':300.0, 'NoOfBath':1, 'NoOfPeople':1, 'NoOfBalcony':0}\n",
    "t2={'BuildingType':2, 'Location':3, 'Size':2, 'AreaSqFt':200.0, 'NoOfBath':2, 'NoOfPeople':2, 'NoOfBalcony':1}\n",
    "t3={'BuildingType':3, 'Location':4, 'Size':3, 'AreaSqFt':300.0, 'NoOfBath':3, 'NoOfPeople':3, 'NoOfBalcony':2}\n",
    "t4={'BuildingType':4, 'Location':1, 'Size':4, 'AreaSqFt':400.0, 'NoOfBath':4, 'NoOfPeople':4, 'NoOfBalcony':3}\n",
    "t5={'BuildingType':0, 'Location':1, 'Size':5, 'AreaSqFt':400.0, 'NoOfBath':5, 'NoOfPeople':5, 'NoOfBalcony':1}\n",
    "t6={'BuildingType':5, 'Location':2, 'Size':6, 'AreaSqFt':200.0, 'NoOfBath':6, 'NoOfPeople':6, 'NoOfBalcony':2}\n",
    "t7={'BuildingType':6, 'Location':3, 'Size':7, 'AreaSqFt':350.0, 'NoOfBath':7, 'NoOfPeople':1, 'NoOfBalcony':3}\n",
    "\n",
    "m_test=m_test.append(t1, ignore_index=True)\n",
    "m_test=m_test.append(t2, ignore_index=True)\n",
    "m_test=m_test.append(t3, ignore_index=True)\n",
    "m_test=m_test.append(t4, ignore_index=True)\n",
    "m_test=m_test.append(t5, ignore_index=True)\n",
    "m_test=m_test.append(t6, ignore_index=True)\n",
    "m_test=m_test.append(t7, ignore_index=True)\n",
    "\n",
    "m_test"
   ]
  },
  {
   "cell_type": "code",
   "execution_count": 44,
   "id": "eba1d838",
   "metadata": {},
   "outputs": [],
   "source": [
    "m_pred=model.predict(m_test)"
   ]
  },
  {
   "cell_type": "code",
   "execution_count": 45,
   "id": "be692b25",
   "metadata": {},
   "outputs": [
    {
     "name": "stdout",
     "output_type": "stream",
     "text": [
      "Rent Predictions: [-3842.80364253  4313.58715707 12676.15716379 23681.27377209\n",
      " 30299.30233872 40611.4347169   9230.92141165]\n"
     ]
    }
   ],
   "source": [
    "print(\"Rent Predictions:\", m_pred)"
   ]
  },
  {
   "cell_type": "markdown",
   "id": "fac5c9b5",
   "metadata": {},
   "source": [
    "<hr>"
   ]
  },
  {
   "cell_type": "markdown",
   "id": "5d908428",
   "metadata": {},
   "source": [
    "### Compairing the different accuracy scores on the various data spilt ratios."
   ]
  },
  {
   "cell_type": "code",
   "execution_count": 53,
   "id": "aa021395",
   "metadata": {},
   "outputs": [
    {
     "data": {
      "text/html": [
       "<div>\n",
       "<style scoped>\n",
       "    .dataframe tbody tr th:only-of-type {\n",
       "        vertical-align: middle;\n",
       "    }\n",
       "\n",
       "    .dataframe tbody tr th {\n",
       "        vertical-align: top;\n",
       "    }\n",
       "\n",
       "    .dataframe thead th {\n",
       "        text-align: right;\n",
       "    }\n",
       "</style>\n",
       "<table border=\"1\" class=\"dataframe\">\n",
       "  <thead>\n",
       "    <tr style=\"text-align: right;\">\n",
       "      <th></th>\n",
       "      <th>Split Ratio</th>\n",
       "      <th>Train data Entries</th>\n",
       "      <th>Test data Entries</th>\n",
       "      <th>Accuracy Score</th>\n",
       "    </tr>\n",
       "  </thead>\n",
       "  <tbody>\n",
       "    <tr>\n",
       "      <th>0</th>\n",
       "      <td>0.5</td>\n",
       "      <td>(500, 28)</td>\n",
       "      <td>(500, 28)</td>\n",
       "      <td>88.611417</td>\n",
       "    </tr>\n",
       "    <tr>\n",
       "      <th>1</th>\n",
       "      <td>0.4</td>\n",
       "      <td>(600, 28)</td>\n",
       "      <td>(400, 28)</td>\n",
       "      <td>90.383962</td>\n",
       "    </tr>\n",
       "    <tr>\n",
       "      <th>2</th>\n",
       "      <td>0.3</td>\n",
       "      <td>(700, 28)</td>\n",
       "      <td>(300, 28)</td>\n",
       "      <td>89.299590</td>\n",
       "    </tr>\n",
       "    <tr>\n",
       "      <th>3</th>\n",
       "      <td>0.2</td>\n",
       "      <td>(800, 28)</td>\n",
       "      <td>(200, 28)</td>\n",
       "      <td>90.778567</td>\n",
       "    </tr>\n",
       "  </tbody>\n",
       "</table>\n",
       "</div>"
      ],
      "text/plain": [
       "   Split Ratio Train data Entries Test data Entries  Accuracy Score\n",
       "0          0.5          (500, 28)         (500, 28)       88.611417\n",
       "1          0.4          (600, 28)         (400, 28)       90.383962\n",
       "2          0.3          (700, 28)         (300, 28)       89.299590\n",
       "3          0.2          (800, 28)         (200, 28)       90.778567"
      ]
     },
     "metadata": {},
     "output_type": "display_data"
    }
   ],
   "source": [
    "summary = pd.DataFrame(columns = [\"Split Ratio\", \"Train data Entries\", \"Test data Entries\", \"Accuracy Score\"])\n",
    "ratio=[0.50, 0.40, 0.30, 0.20]\n",
    "for r in ratio:\n",
    "    X_train, X_test, y_train, y_test = train_test_split(X, y, test_size=r)\n",
    "    model = LinearRegression()\n",
    "    model.fit(X_train, y_train)\n",
    "    m_pred=model.predict(X_test)\n",
    "    r_sq = r2_score(y_test, m_pred)\n",
    "    s1={\"Split Ratio\": r, \n",
    "        \"Train data Entries\":(X_train.shape), \n",
    "        \"Test data Entries\":(X_test.shape),\n",
    "        \"Accuracy Score\":(r_sq*100)}\n",
    "    summary=summary.append(s1, ignore_index=True)\n",
    "display(summary)"
   ]
  },
  {
   "cell_type": "markdown",
   "id": "e7461920",
   "metadata": {},
   "source": [
    "<hr>"
   ]
  },
  {
   "cell_type": "markdown",
   "id": "4c00e23e",
   "metadata": {},
   "source": [
    "###  Summary of Model using OLS."
   ]
  },
  {
   "cell_type": "code",
   "execution_count": 47,
   "id": "6ce30b94",
   "metadata": {},
   "outputs": [
    {
     "data": {
      "text/html": [
       "<table class=\"simpletable\">\n",
       "<caption>OLS Regression Results</caption>\n",
       "<tr>\n",
       "  <th>Dep. Variable:</th>      <td>RentPerMonth</td>   <th>  R-squared:         </th> <td>   0.907</td> \n",
       "</tr>\n",
       "<tr>\n",
       "  <th>Model:</th>                   <td>OLS</td>       <th>  Adj. R-squared:    </th> <td>   0.905</td> \n",
       "</tr>\n",
       "<tr>\n",
       "  <th>Method:</th>             <td>Least Squares</td>  <th>  F-statistic:       </th> <td>   380.3</td> \n",
       "</tr>\n",
       "<tr>\n",
       "  <th>Date:</th>             <td>Sat, 19 Mar 2022</td> <th>  Prob (F-statistic):</th>  <td>  0.00</td>  \n",
       "</tr>\n",
       "<tr>\n",
       "  <th>Time:</th>                 <td>17:44:53</td>     <th>  Log-Likelihood:    </th> <td> -9490.6</td> \n",
       "</tr>\n",
       "<tr>\n",
       "  <th>No. Observations:</th>      <td>  1000</td>      <th>  AIC:               </th> <td>1.903e+04</td>\n",
       "</tr>\n",
       "<tr>\n",
       "  <th>Df Residuals:</th>          <td>   974</td>      <th>  BIC:               </th> <td>1.916e+04</td>\n",
       "</tr>\n",
       "<tr>\n",
       "  <th>Df Model:</th>              <td>    25</td>      <th>                     </th>     <td> </td>    \n",
       "</tr>\n",
       "<tr>\n",
       "  <th>Covariance Type:</th>      <td>nonrobust</td>    <th>                     </th>     <td> </td>    \n",
       "</tr>\n",
       "</table>\n",
       "<table class=\"simpletable\">\n",
       "<tr>\n",
       "                      <td></td>                        <th>coef</th>     <th>std err</th>      <th>t</th>      <th>P>|t|</th>  <th>[0.025</th>    <th>0.975]</th>  \n",
       "</tr>\n",
       "<tr>\n",
       "  <th>const</th>                                    <td> 7496.1164</td> <td>  785.008</td> <td>    9.549</td> <td> 0.000</td> <td> 5955.615</td> <td> 9036.617</td>\n",
       "</tr>\n",
       "<tr>\n",
       "  <th>AreaSqFt</th>                                 <td>    0.4881</td> <td>    0.088</td> <td>    5.544</td> <td> 0.000</td> <td>    0.315</td> <td>    0.661</td>\n",
       "</tr>\n",
       "<tr>\n",
       "  <th>NoOfBath</th>                                 <td>  858.6453</td> <td>  198.857</td> <td>    4.318</td> <td> 0.000</td> <td>  468.409</td> <td> 1248.882</td>\n",
       "</tr>\n",
       "<tr>\n",
       "  <th>NoOfPeople</th>                               <td> 1669.5988</td> <td>  179.151</td> <td>    9.319</td> <td> 0.000</td> <td> 1318.032</td> <td> 2021.166</td>\n",
       "</tr>\n",
       "<tr>\n",
       "  <th>NoOfBalcony</th>                              <td>  204.8256</td> <td>  132.303</td> <td>    1.548</td> <td> 0.122</td> <td>  -54.807</td> <td>  464.458</td>\n",
       "</tr>\n",
       "<tr>\n",
       "  <th>BuildingType_Fully Furnished Flat</th>        <td> 3834.3533</td> <td>  539.960</td> <td>    7.101</td> <td> 0.000</td> <td> 2774.735</td> <td> 4893.972</td>\n",
       "</tr>\n",
       "<tr>\n",
       "  <th>BuildingType_Fully Furnished Single Room</th> <td>-8706.2243</td> <td>  323.715</td> <td>  -26.895</td> <td> 0.000</td> <td>-9341.483</td> <td>-8070.966</td>\n",
       "</tr>\n",
       "<tr>\n",
       "  <th>BuildingType_Fully Furnished Villa</th>       <td> 1.244e+04</td> <td>  804.963</td> <td>   15.449</td> <td> 0.000</td> <td> 1.09e+04</td> <td>  1.4e+04</td>\n",
       "</tr>\n",
       "<tr>\n",
       "  <th>BuildingType_Minimum Budget Rooms</th>        <td>-1.121e+04</td> <td>  425.921</td> <td>  -26.329</td> <td> 0.000</td> <td> -1.2e+04</td> <td>-1.04e+04</td>\n",
       "</tr>\n",
       "<tr>\n",
       "  <th>BuildingType_Semi Furnished Flat</th>         <td>-7945.7030</td> <td>  280.953</td> <td>  -28.281</td> <td> 0.000</td> <td>-8497.047</td> <td>-7394.359</td>\n",
       "</tr>\n",
       "<tr>\n",
       "  <th>BuildingType_Semi Furnished Single Room</th>  <td>-1.117e+04</td> <td>  332.644</td> <td>  -33.572</td> <td> 0.000</td> <td>-1.18e+04</td> <td>-1.05e+04</td>\n",
       "</tr>\n",
       "<tr>\n",
       "  <th>BuildingType_Semi Furnished Villa</th>        <td>-1628.9316</td> <td>  416.542</td> <td>   -3.911</td> <td> 0.000</td> <td>-2446.354</td> <td> -811.509</td>\n",
       "</tr>\n",
       "<tr>\n",
       "  <th>BuildingType_Super Furnished Flat</th>        <td> 4367.4551</td> <td>  933.893</td> <td>    4.677</td> <td> 0.000</td> <td> 2534.781</td> <td> 6200.130</td>\n",
       "</tr>\n",
       "<tr>\n",
       "  <th>BuildingType_Super Furnished Single Room</th> <td>-5452.6226</td> <td>  631.360</td> <td>   -8.636</td> <td> 0.000</td> <td>-6691.605</td> <td>-4213.640</td>\n",
       "</tr>\n",
       "<tr>\n",
       "  <th>BuildingType_Super Furnished Villa</th>       <td> 3.297e+04</td> <td>  825.602</td> <td>   39.939</td> <td> 0.000</td> <td> 3.14e+04</td> <td> 3.46e+04</td>\n",
       "</tr>\n",
       "<tr>\n",
       "  <th>Location_Clubview Road</th>                   <td> 2371.8712</td> <td>  330.797</td> <td>    7.170</td> <td> 0.000</td> <td> 1722.714</td> <td> 3021.029</td>\n",
       "</tr>\n",
       "<tr>\n",
       "  <th>Location_Portofino</th>                       <td> 2602.2366</td> <td>  304.597</td> <td>    8.543</td> <td> 0.000</td> <td> 2004.495</td> <td> 3199.978</td>\n",
       "</tr>\n",
       "<tr>\n",
       "  <th>Location_School Street</th>                   <td> 1841.2998</td> <td>  352.741</td> <td>    5.220</td> <td> 0.000</td> <td> 1149.080</td> <td> 2533.520</td>\n",
       "</tr>\n",
       "<tr>\n",
       "  <th>Location_Starter Homes</th>                   <td>  680.7087</td> <td>  922.723</td> <td>    0.738</td> <td> 0.461</td> <td>-1130.046</td> <td> 2491.464</td>\n",
       "</tr>\n",
       "<tr>\n",
       "  <th>Size_1 BHK</th>                               <td> 1015.0253</td> <td>  783.626</td> <td>    1.295</td> <td> 0.196</td> <td> -522.764</td> <td> 2552.814</td>\n",
       "</tr>\n",
       "<tr>\n",
       "  <th>Size_1 RK</th>                                <td>  970.4373</td> <td> 2184.676</td> <td>    0.444</td> <td> 0.657</td> <td>-3316.776</td> <td> 5257.651</td>\n",
       "</tr>\n",
       "<tr>\n",
       "  <th>Size_2 BHK</th>                               <td>  405.2670</td> <td>  533.878</td> <td>    0.759</td> <td> 0.448</td> <td> -642.417</td> <td> 1452.951</td>\n",
       "</tr>\n",
       "<tr>\n",
       "  <th>Size_3 BHK</th>                               <td>  493.0298</td> <td>  450.772</td> <td>    1.094</td> <td> 0.274</td> <td> -391.566</td> <td> 1377.626</td>\n",
       "</tr>\n",
       "<tr>\n",
       "  <th>Size_4 BHK</th>                               <td> 1489.7006</td> <td>  470.101</td> <td>    3.169</td> <td> 0.002</td> <td>  567.173</td> <td> 2412.228</td>\n",
       "</tr>\n",
       "<tr>\n",
       "  <th>Size_5 BHK</th>                               <td> 2224.8514</td> <td>  722.416</td> <td>    3.080</td> <td> 0.002</td> <td>  807.181</td> <td> 3642.522</td>\n",
       "</tr>\n",
       "<tr>\n",
       "  <th>Size_6 BHK</th>                               <td> 2363.1839</td> <td>  771.572</td> <td>    3.063</td> <td> 0.002</td> <td>  849.050</td> <td> 3877.318</td>\n",
       "</tr>\n",
       "<tr>\n",
       "  <th>Size_7 BHK</th>                               <td> 4653.9731</td> <td> 1236.665</td> <td>    3.763</td> <td> 0.000</td> <td> 2227.139</td> <td> 7080.807</td>\n",
       "</tr>\n",
       "<tr>\n",
       "  <th>Size_8 BHK</th>                               <td>-1017.5953</td> <td> 1268.017</td> <td>   -0.803</td> <td> 0.422</td> <td>-3505.956</td> <td> 1470.765</td>\n",
       "</tr>\n",
       "<tr>\n",
       "  <th>Size_9 BHK</th>                               <td>-5101.7566</td> <td> 1843.785</td> <td>   -2.767</td> <td> 0.006</td> <td>-8720.004</td> <td>-1483.509</td>\n",
       "</tr>\n",
       "</table>\n",
       "<table class=\"simpletable\">\n",
       "<tr>\n",
       "  <th>Omnibus:</th>       <td>426.034</td> <th>  Durbin-Watson:     </th> <td>   0.906</td> \n",
       "</tr>\n",
       "<tr>\n",
       "  <th>Prob(Omnibus):</th> <td> 0.000</td>  <th>  Jarque-Bera (JB):  </th> <td>16453.447</td>\n",
       "</tr>\n",
       "<tr>\n",
       "  <th>Skew:</th>          <td> 1.250</td>  <th>  Prob(JB):          </th> <td>    0.00</td> \n",
       "</tr>\n",
       "<tr>\n",
       "  <th>Kurtosis:</th>      <td>22.714</td>  <th>  Cond. No.          </th> <td>1.33e+16</td> \n",
       "</tr>\n",
       "</table><br/><br/>Notes:<br/>[1] Standard Errors assume that the covariance matrix of the errors is correctly specified.<br/>[2] The smallest eigenvalue is 2.39e-23. This might indicate that there are<br/>strong multicollinearity problems or that the design matrix is singular."
      ],
      "text/plain": [
       "<class 'statsmodels.iolib.summary.Summary'>\n",
       "\"\"\"\n",
       "                            OLS Regression Results                            \n",
       "==============================================================================\n",
       "Dep. Variable:           RentPerMonth   R-squared:                       0.907\n",
       "Model:                            OLS   Adj. R-squared:                  0.905\n",
       "Method:                 Least Squares   F-statistic:                     380.3\n",
       "Date:                Sat, 19 Mar 2022   Prob (F-statistic):               0.00\n",
       "Time:                        17:44:53   Log-Likelihood:                -9490.6\n",
       "No. Observations:                1000   AIC:                         1.903e+04\n",
       "Df Residuals:                     974   BIC:                         1.916e+04\n",
       "Df Model:                          25                                         \n",
       "Covariance Type:            nonrobust                                         \n",
       "============================================================================================================\n",
       "                                               coef    std err          t      P>|t|      [0.025      0.975]\n",
       "------------------------------------------------------------------------------------------------------------\n",
       "const                                     7496.1164    785.008      9.549      0.000    5955.615    9036.617\n",
       "AreaSqFt                                     0.4881      0.088      5.544      0.000       0.315       0.661\n",
       "NoOfBath                                   858.6453    198.857      4.318      0.000     468.409    1248.882\n",
       "NoOfPeople                                1669.5988    179.151      9.319      0.000    1318.032    2021.166\n",
       "NoOfBalcony                                204.8256    132.303      1.548      0.122     -54.807     464.458\n",
       "BuildingType_Fully Furnished Flat         3834.3533    539.960      7.101      0.000    2774.735    4893.972\n",
       "BuildingType_Fully Furnished Single Room -8706.2243    323.715    -26.895      0.000   -9341.483   -8070.966\n",
       "BuildingType_Fully Furnished Villa        1.244e+04    804.963     15.449      0.000    1.09e+04     1.4e+04\n",
       "BuildingType_Minimum Budget Rooms        -1.121e+04    425.921    -26.329      0.000    -1.2e+04   -1.04e+04\n",
       "BuildingType_Semi Furnished Flat         -7945.7030    280.953    -28.281      0.000   -8497.047   -7394.359\n",
       "BuildingType_Semi Furnished Single Room  -1.117e+04    332.644    -33.572      0.000   -1.18e+04   -1.05e+04\n",
       "BuildingType_Semi Furnished Villa        -1628.9316    416.542     -3.911      0.000   -2446.354    -811.509\n",
       "BuildingType_Super Furnished Flat         4367.4551    933.893      4.677      0.000    2534.781    6200.130\n",
       "BuildingType_Super Furnished Single Room -5452.6226    631.360     -8.636      0.000   -6691.605   -4213.640\n",
       "BuildingType_Super Furnished Villa        3.297e+04    825.602     39.939      0.000    3.14e+04    3.46e+04\n",
       "Location_Clubview Road                    2371.8712    330.797      7.170      0.000    1722.714    3021.029\n",
       "Location_Portofino                        2602.2366    304.597      8.543      0.000    2004.495    3199.978\n",
       "Location_School Street                    1841.2998    352.741      5.220      0.000    1149.080    2533.520\n",
       "Location_Starter Homes                     680.7087    922.723      0.738      0.461   -1130.046    2491.464\n",
       "Size_1 BHK                                1015.0253    783.626      1.295      0.196    -522.764    2552.814\n",
       "Size_1 RK                                  970.4373   2184.676      0.444      0.657   -3316.776    5257.651\n",
       "Size_2 BHK                                 405.2670    533.878      0.759      0.448    -642.417    1452.951\n",
       "Size_3 BHK                                 493.0298    450.772      1.094      0.274    -391.566    1377.626\n",
       "Size_4 BHK                                1489.7006    470.101      3.169      0.002     567.173    2412.228\n",
       "Size_5 BHK                                2224.8514    722.416      3.080      0.002     807.181    3642.522\n",
       "Size_6 BHK                                2363.1839    771.572      3.063      0.002     849.050    3877.318\n",
       "Size_7 BHK                                4653.9731   1236.665      3.763      0.000    2227.139    7080.807\n",
       "Size_8 BHK                               -1017.5953   1268.017     -0.803      0.422   -3505.956    1470.765\n",
       "Size_9 BHK                               -5101.7566   1843.785     -2.767      0.006   -8720.004   -1483.509\n",
       "==============================================================================\n",
       "Omnibus:                      426.034   Durbin-Watson:                   0.906\n",
       "Prob(Omnibus):                  0.000   Jarque-Bera (JB):            16453.447\n",
       "Skew:                           1.250   Prob(JB):                         0.00\n",
       "Kurtosis:                      22.714   Cond. No.                     1.33e+16\n",
       "==============================================================================\n",
       "\n",
       "Notes:\n",
       "[1] Standard Errors assume that the covariance matrix of the errors is correctly specified.\n",
       "[2] The smallest eigenvalue is 2.39e-23. This might indicate that there are\n",
       "strong multicollinearity problems or that the design matrix is singular.\n",
       "\"\"\""
      ]
     },
     "execution_count": 47,
     "metadata": {},
     "output_type": "execute_result"
    }
   ],
   "source": [
    "import statsmodels.api as sm\n",
    "X_constant = sm.add_constant(X)\n",
    "lin_reg = sm.OLS(y,X_constant).fit()\n",
    "lin_reg.summary()"
   ]
  },
  {
   "cell_type": "markdown",
   "id": "117b2769",
   "metadata": {},
   "source": [
    "#### Visulization of different Values:"
   ]
  },
  {
   "cell_type": "code",
   "execution_count": 48,
   "id": "7da2d082",
   "metadata": {},
   "outputs": [
    {
     "data": {
      "image/png": "[encoded data removed]",
      "text/plain": [
       "<Figure size 1080x648 with 2 Axes>"
      ]
     },
     "metadata": {
      "needs_background": "light"
     },
     "output_type": "display_data"
    }
   ],
   "source": [
    "sns.mpl.rcParams['figure.figsize'] = (15.0, 9.0)\n",
    "\n",
    "def linearity_test(model, y):\n",
    "    fitted_vals = model.predict()\n",
    "    resids = model.resid\n",
    "\n",
    "    fig, ax = plt.subplots(1,2)\n",
    "    \n",
    "    sns.regplot(x=fitted_vals, y=y, lowess=True, ax=ax[0], line_kws={'color': 'red'})\n",
    "    ax[0].set_title('Observed vs. Predicted Values', fontsize=16)\n",
    "    ax[0].set(xlabel='Predicted', ylabel='Observed')\n",
    "\n",
    "    sns.regplot(x=fitted_vals, y=resids, lowess=True, ax=ax[1], line_kws={'color': 'red'})\n",
    "    ax[1].set_title('Residuals vs. Predicted Values', fontsize=16)\n",
    "    ax[1].set(xlabel='Predicted', ylabel='Residuals')\n",
    "    \n",
    "linearity_test(lin_reg, y) "
   ]
  },
  {
   "cell_type": "markdown",
   "id": "a461429c",
   "metadata": {},
   "source": [
    "<hr>"
   ]
  },
  {
   "cell_type": "markdown",
   "id": "5b81b266",
   "metadata": {},
   "source": [
    "We can use different models for the numerical predictions. There are different regression algorithems to predict munerical predictions."
   ]
  },
  {
   "cell_type": "code",
   "execution_count": 49,
   "id": "4b2e2193",
   "metadata": {},
   "outputs": [],
   "source": [
    "from sklearn.ensemble import RandomForestRegressor\n",
    "rf=RandomForestRegressor()"
   ]
  },
  {
   "cell_type": "code",
   "execution_count": 50,
   "id": "f356f009",
   "metadata": {},
   "outputs": [
    {
     "name": "stdout",
     "output_type": "stream",
     "text": [
      "Accuracy Score with Random Forest Regressor:  91.16591470313342\n"
     ]
    }
   ],
   "source": [
    "model=rf.fit(X_train, y_train)\n",
    "rf_pred=model.predict(X_test)\n",
    "r2s=r2_score(y_test, rf_pred)\n",
    "print(\"Accuracy Score with Random Forest Regressor: \", r2s*100)"
   ]
  },
  {
   "cell_type": "markdown",
   "id": "ca97b3dc",
   "metadata": {},
   "source": [
    "<hr>"
   ]
  },
  {
   "cell_type": "markdown",
   "id": "dc979514",
   "metadata": {},
   "source": [
    "## Normalize Parameter:"
   ]
  },
  {
   "cell_type": "markdown",
   "id": "8ed2497d",
   "metadata": {},
   "source": [
    "- In normalization, we map the minimum feature value to 0 and the maximum to 1. Hence, the feature values are mapped into the [0, 1].\n",
    "- In different sklearn.linear_model classes such as ridge and ridgeCV, the normalize parameter means actually standardize. This misnomer can cause lots of unnecessary confusion.\n",
    "- What normalize means in general is to make the length of vector norm 1. This is clearly not ridge regression or lasso or other regularized linear model does.\n",
    "- We can also use Standardization instead of Normalizer. In standardization, we don’t enforce the data into a definite range. Instead, we transform to have a mean of 0 and a standard deviation of 1"
   ]
  },
  {
   "cell_type": "code",
   "execution_count": 51,
   "id": "f2e6a4db",
   "metadata": {},
   "outputs": [
    {
     "name": "stdout",
     "output_type": "stream",
     "text": [
      "R^2 Score (with normalize=False):  0.771675948364799\n"
     ]
    }
   ],
   "source": [
    "model = LinearRegression(normalize=False)\n",
    "model.fit(X_train, y_train)\n",
    "m_pred=model.predict(X_test)\n",
    "r2_sF=r2_score(y_test, m_pred)\n",
    "print(\"R^2 Score (with normalize=False): \", r2_sF)"
   ]
  },
  {
   "cell_type": "code",
   "execution_count": 52,
   "id": "26953623",
   "metadata": {},
   "outputs": [
    {
     "name": "stdout",
     "output_type": "stream",
     "text": [
      "R^2 Score (with normalize=True):  0.7715447323011352\n"
     ]
    }
   ],
   "source": [
    "model = LinearRegression(normalize=True)\n",
    "model.fit(X_train, y_train)\n",
    "m_pred=model.predict(X_test)\n",
    "r2_sT=r2_score(y_test, m_pred)\n",
    "print(\"R^2 Score (with normalize=True): \", r2_sT)"
   ]
  },
  {
   "cell_type": "markdown",
   "id": "7d1902a5",
   "metadata": {},
   "source": [
    "<hr>"
   ]
  },
  {
   "cell_type": "markdown",
   "id": "3e83d5e7",
   "metadata": {},
   "source": [
    "## References:\n",
    "- https://scikit-learn.org/stable/modules/generated/sklearn.linear_model.LinearRegression.html\n",
    "- https://www.baeldung.com/cs/normalization-vs-standardization\n",
    "- https://scikit-learn.org/stable/modules/generated/sklearn.model_selection.train_test_split.html"
   ]
  },
  {
   "cell_type": "markdown",
   "id": "4814569e",
   "metadata": {},
   "source": [
    "## Conclusion/Results:\n",
    "This assignment given us the clear idea about the DataFrame, Visulization, ML/Analysis, libraries, datasets and various subparts of sklearn libraries, it's uses and various method to find out the hidden patterns in data and relationa between various features and data stractures. We explored the different fields of linear models, it's parameters and ways of creating linear model.\n",
    "*******************************************************************************************************************************\n"
   ]
  }
 ],
 "metadata": {
  "kernelspec": {
   "display_name": "Python 3 (ipykernel)",
   "language": "python",
   "name": "python3"
  },
  "language_info": {
   "codemirror_mode": {
    "name": "ipython",
    "version": 3
   },
   "file_extension": ".py",
   "mimetype": "text/x-python",
   "name": "python",
   "nbconvert_exporter": "python",
   "pygments_lexer": "ipython3",
   "version": "3.9.7"
  }
 },
 "nbformat": 4,
 "nbformat_minor": 5
}
